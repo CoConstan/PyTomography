{
 "cells": [
  {
   "cell_type": "markdown",
   "metadata": {},
   "source": [
    "Hybrid Monte Carlo (MC) SPECT reconstruction. uses SIMIND as a backend. See the website https://simind.blogg.lu.se/exempelsida/ for instructions on how to install, and how to cite their work. Once `simind` has been set as a path variable on your system (one of their install instructions), then you should be able to run the code of this tutorial.\n",
    "\n",
    "Hybrid MC SPECT reconstruction replaces conventional forward projection $\\bar{y} =H \\hat{x}$ with an MC prediction $\\bar{y}_{\\text{MC}} = \\hat{H}_{\\text{MC}}\\hat{x}$. In practice, the term $\\hat{H}_{\\text{MC}}\\hat{x}$ is estimated all at once via simulation of many individual photons; $\\hat{H}_{\\text{MC}}$ is given a hat because it is effectively estimated using random variables. Unlike conventional reconstruction $\\hat{H}_{\\text{MC}}$ estimates the contribution from all photons, so a scatter correction term is not required.\n",
    "\n"
   ]
  },
  {
   "cell_type": "code",
   "execution_count": 1,
   "metadata": {},
   "outputs": [],
   "source": [
    "import os\n",
    "import sys\n",
    "import torch\n",
    "from pytomography.io.SPECT import simind, dicom\n",
    "import numpy as np\n",
    "from pytomography.projectors.SPECT import SPECTSystemMatrix\n",
    "from pytomography.transforms.SPECT import SPECTAttenuationTransform, SPECTPSFTransform\n",
    "from pytomography.algorithms import OSEM\n",
    "from pytomography.likelihoods import PoissonLogLikelihood\n",
    "from pytomography.utils import compute_EW_scatter\n",
    "from pytomography.utils import simind_mc\n",
    "from pytomography.callbacks import DataStorageCallback, Callback\n",
    "import pytomography\n",
    "import matplotlib.pyplot as plt\n",
    "import dill\n",
    "import pydicom\n",
    "from pytomography.utils import get_mu_from_spectrum_interp"
   ]
  },
  {
   "cell_type": "code",
   "execution_count": null,
   "metadata": {},
   "outputs": [],
   "source": [
    "# change this to where the tutorial data is saved\n",
    "PATH = '/mnt/mydisk2/pytomo_tutorial_data/SPECT/SIMIND-Jaszak'"
   ]
  },
  {
   "cell_type": "markdown",
   "metadata": {},
   "source": [
    "In this tutorial we give the option to reconstruct one of three different isotopes: Lu-177, Pb-212, or Y-90. Conventional reconstruction does a pretty good job for Lu-177, but is less effective for Pb-212 or Y-90. In these cases, you'll find that the MC reconstruction here does much better. You can change the isotope name below"
   ]
  },
  {
   "cell_type": "code",
   "execution_count": null,
   "metadata": {},
   "outputs": [],
   "source": [
    "ISOTOPE='lu177'\n",
    "if ISOTOPE == 'pb212': # NEED TO RUN\n",
    "    isotopes_decay = ['pb212', 'bi212', 'tl208']\n",
    "    isotopes_ratios = [1,1.105,0.4] # bateman equation equilibrium\n",
    "    idx_peak, idx_lower, idx_upper = 5, 4, 6\n",
    "    E_window_bounds = [[204.6,215.1],[215.1,262.9],[262.9,276.4]] #lwr,peak,upr\n",
    "    E = 236\n",
    "    use_TEW_for_conventional = True\n",
    "    activity_conc = 50\n",
    "if ISOTOPE == 'lu177': # NEED TO RUN\n",
    "    isotopes_decay = ['lu177']\n",
    "    isotopes_ratios = [1]\n",
    "    idx_peak, idx_lower, idx_upper = 5, 4, 6\n",
    "    E_window_bounds = [[166.4,187.2],[187.2,228.8],[228.8,249.6]] #lwr,peak,upr\n",
    "    E = 208\n",
    "    use_TEW_for_conventional = True\n",
    "    activity_conc = 1\n",
    "if ISOTOPE == 'y90': # NEED TO RUN\n",
    "    isotopes_decay = ['y90']\n",
    "    isotopes_ratios = [1]\n",
    "    idx_peak, idx_lower, idx_upper = 2,1,3\n",
    "    E_window_bounds = [[50,100],[100,200],[200,300]] #lwr,peak,upr\n",
    "    E = 150\n",
    "    use_TEW_for_conventional = False\n",
    "    activity_conc = 10\n",
    "dT = 15"
   ]
  },
  {
   "cell_type": "markdown",
   "metadata": {},
   "source": [
    "Now we'll specify the file paths and generate synthetic projections as we've done in the introductory SIMIND reconstruction tutorials. Since the data that we are reconstructing itself comes from SIMIND, the MC reconstruction uses an MC simulator that perfectly encapsulates the true physics."
   ]
  },
  {
   "cell_type": "code",
   "execution_count": 4,
   "metadata": {},
   "outputs": [],
   "source": [
    "files_NM = [[os.path.join(PATH, f'{isotope}', f'tot_w{i}.h00') for isotope in isotopes_decay] for i in [idx_lower, idx_peak, idx_upper]]\n",
    "object_meta, proj_meta = simind.get_metadata(files_NM[0][0])\n",
    "activity_concs = [activity_conc * ratio for ratio in isotopes_ratios]\n",
    "projections = simind.get_projections(files_NM, activity_concs)\n",
    "projections *= dT\n",
    "projections = torch.poisson(projections)\n",
    "# the projections are ordered as [lower, peak, upper]\n",
    "photopeak = projections[1]\n",
    "widths = torch.tensor([E2-E1 for E1,E2 in E_window_bounds])\n",
    "if use_TEW_for_conventional:\n",
    "    additive_TEW = simind.compute_EW_scatter(projections[0], projections[2], widths[0], widths[2], widths[1])\n",
    "else:\n",
    "    additive_TEW = photopeak*0"
   ]
  },
  {
   "cell_type": "markdown",
   "metadata": {},
   "source": [
    "Lets view some of the projections"
   ]
  },
  {
   "cell_type": "code",
   "execution_count": 5,
   "metadata": {},
   "outputs": [
    {
     "data": {
      "image/png": "[encoded data removed]",
      "text/plain": [
       "<Figure size 600x200 with 3 Axes>"
      ]
     },
     "metadata": {},
     "output_type": "display_data"
    }
   ],
   "source": [
    "fig, ax = plt.subplots(1,3,figsize=(6,2))\n",
    "ax[0].imshow(photopeak[0].cpu().T)\n",
    "ax[1].imshow(photopeak[40].cpu().T)\n",
    "ax[2].imshow(photopeak[80].cpu().T)\n",
    "[a.axis('off') for a in ax.ravel()]\n",
    "plt.show()"
   ]
  },
  {
   "cell_type": "markdown",
   "metadata": {},
   "source": [
    "Back projection still requires an analytica system matrix, so we need to create the attenuation and PSF transform used in the back projection. We'll choose the mid-point energy in the energy window specified (even though for Y-90, there are photons of many energies detected in this window)"
   ]
  },
  {
   "cell_type": "code",
   "execution_count": null,
   "metadata": {},
   "outputs": [
    {
     "name": "stderr",
     "output_type": "stream",
     "text": [
      "Bad pipe message: %s [b'2 \\xf2\\xe8\\xb9\\x9d\\x87I9\\x13\\xed\\x99\\xa3{u$e\\xbf \\xd2\\x96K\\xae~\\xb3\\xc5\\x9d\\xaf5\\x96]8\\x9a\\x8d\\xf4]\\x03&\\x88}\\xed\\xa9%\\x98\\xfa\\x12<p\\x05\\xf1\\x9d\\x00\\x08\\x13\\x02\\x13\\x03\\x13\\x01\\x00\\xff\\x01\\x00\\x00\\x8f\\x00\\x00\\x00\\x0e\\x00\\x0c\\x00\\x00\\t127.0.0.1\\x00\\x0b\\x00\\x04\\x03\\x00\\x01\\x02\\x00\\n\\x00\\x0c\\x00', b'\\x1d\\x00\\x17\\x00\\x1e\\x00\\x19\\x00\\x18']\n",
      "Bad pipe message: %s [b\"C[zG\\x8a\\x18\\xc0\\xe7\\xf0\\xb00'\\xca\\xeeC\\xccBo\\x00\\x00|\\xc0,\\xc00\\x00\\xa3\\x00\\x9f\\xcc\\xa9\\xcc\\xa8\\xcc\\xaa\\xc0\\xaf\\xc0\\xad\\xc0\\xa3\\xc0\\x9f\\xc0]\\xc0a\\xc0W\\xc0S\\xc0+\\xc0/\\x00\\xa2\\x00\\x9e\\xc0\\xae\\xc0\\xac\\xc0\\xa2\\xc0\\x9e\\xc0\\\\\\xc0`\\xc0V\\xc0R\\xc0$\\xc0(\\x00k\\x00j\\xc0#\\xc0'\\x00g\\x00@\\xc0\\n\\xc0\\x14\\x009\\x008\\xc0\\t\\xc0\\x13\\x003\\x002\\x00\\x9d\\xc0\\xa1\\xc0\\x9d\\xc0Q\\x00\\x9c\\xc0\\xa0\\xc0\\x9c\\xc0P\\x00=\\x00<\\x005\\x00/\\x00\\x9a\\x00\\x99\\xc0\\x07\\xc0\\x11\\x00\\x96\\x00\\x05\\x00\\xff\\x01\\x00\\x00j\\x00\\x00\\x00\\x0e\\x00\\x0c\\x00\\x00\\t127.0.0.1\\x00\\x0b\\x00\\x04\\x03\\x00\\x01\\x02\\x00\\n\\x00\\x0c\\x00\\n\\x00\\x1d\\x00\"]\n",
      "Bad pipe message: %s [b'\\x1e\\x00\\x19\\x00\\x18\\x00#\\x00\\x00\\x00\\x16\\x00\\x00\\x00\\x17\\x00\\x00\\x00\\r\\x000\\x00']\n",
      "Bad pipe message: %s [b'\\x03\\x05\\x03\\x06\\x03\\x08\\x07\\x08\\x08\\x08\\t\\x08\\n\\x08\\x0b\\x08\\x04\\x08\\x05\\x08\\x06\\x04\\x01\\x05\\x01\\x06\\x01\\x03\\x03\\x02\\x03\\x03\\x01\\x02\\x01\\x03\\x02\\x02\\x02\\x04\\x02\\x05\\x02\\x06\\x02']\n",
      "Bad pipe message: %s [b's#']\n",
      "Bad pipe message: %s [b'\"\\xdaW\\xea\\xbdK\\x03\\xf3I\\xba]\\x07\\x18\\xcfb \\xe36\\x00\\x00>\\xc0\\x14\\xc0\\n\\x009\\x008\\x007\\x006\\xc0\\x0f\\xc0\\x05\\x005\\xc0\\x13\\xc0\\t\\x003\\x002\\x001\\x000\\xc0\\x0e\\xc0\\x04\\x00/\\x00\\x9a\\x00\\x99\\x00\\x98\\x00\\x97\\x00\\x96\\x00\\x07']\n",
      "Bad pipe message: %s [b'\\xfc\\x87o\\xb5\\xe8H-\\x0c)\\xed\\xcb\\xbcf\\x88_\\x12XC\\x00\\x00\\xa2\\xc0\\x14\\xc0\\n\\x009\\x008\\x007\\x006\\x00\\x88\\x00\\x87\\x00\\x86\\x00\\x85\\xc0\\x19\\x00:\\x00\\x89\\xc0\\x0f\\xc0\\x05\\x005\\x00\\x84']\n",
      "Bad pipe message: %s [b\"\\x1c_D\\x9elbItt\\x89\\xd5\\x10\\xb8\\xfc\\x89\\xad\\xfe\\x04\\x00\\x00\\x86\\xc00\\xc0,\\xc0(\\xc0$\\xc0\\x14\\xc0\\n\\x00\\xa5\\x00\\xa3\\x00\\xa1\\x00\\x9f\\x00k\\x00j\\x00i\\x00h\\x009\\x008\\x007\\x006\\xc02\\xc0.\\xc0*\\xc0&\\xc0\\x0f\\xc0\\x05\\x00\\x9d\\x00=\\x005\\xc0/\\xc0+\\xc0'\\xc0#\\xc0\\x13\\xc0\\t\\x00\\xa4\\x00\\xa2\\x00\\xa0\"]\n",
      "Bad pipe message: %s [b\"\\xf4Uj\\x04\\xf5\\xf2\\xf4\\xb8W7\\xe6\\x01,\\xf7\\xce`c\\x87\\x00\\x00\\xf4\\xc00\\xc0,\\xc0(\\xc0$\\xc0\\x14\\xc0\\n\\x00\\xa5\\x00\\xa3\\x00\\xa1\\x00\\x9f\\x00k\\x00j\\x00i\\x00h\\x009\\x008\\x007\\x006\\x00\\x88\\x00\\x87\\x00\\x86\\x00\\x85\\xc0\\x19\\x00\\xa7\\x00m\\x00:\\x00\\x89\\xc02\\xc0.\\xc0*\\xc0&\\xc0\\x0f\\xc0\\x05\\x00\\x9d\\x00=\\x005\\x00\\x84\\xc0/\\xc0+\\xc0'\\xc0#\\xc0\\x13\\xc0\\t\\x00\\xa4\\x00\\xa2\\x00\\xa0\\x00\\x9e\\x00g\\x00@\\x00?\\x00>\\x003\\x002\\x001\\x000\\x00\\x9a\\x00\\x99\\x00\\x98\\x00\\x97\\x00E\\x00D\\x00C\\x00B\\xc0\\x18\\x00\\xa6\\x00l\\x004\\x00\\x9b\\x00F\\xc01\\xc0-\\xc0)\\xc0%\\xc0\\x0e\\xc0\\x04\\x00\\x9c\\x00<\\x00/\\x00\\x96\\x00A\\x00\\x07\\xc0\\x11\\xc0\\x07\\xc0\\x16\\x00\\x18\\xc0\\x0c\\xc0\\x02\\x00\\x05\\x00\\x04\\xc0\\x12\\xc0\"]\n",
      "Bad pipe message: %s [b'\\x16\\x00\\x13\\x00\\x10\\x00\\r']\n"
     ]
    }
   ],
   "source": [
    "# We need two attenuation maps for MC monte carlo. The 140keV map is used as input\n",
    "# to the MC forward simulation. The amap at the isotope energy is used to build \n",
    "# an attenuation transform that is used in the analytical back projection\n",
    "amap140keV =  simind.get_attenuation_map(os.path.join(PATH,'amap140.hct'))\n",
    "amapIsotopeEnergy = simind.get_attenuation_map(os.path.join(PATH,f'amap{E}.hct'))\n",
    "att_transform = SPECTAttenuationTransform(attenuation_map=amapIsotopeEnergy)\n",
    "\n",
    "psf_meta = simind.get_psfmeta_from_header(files_NM[1][0])\n",
    "psf_transform = SPECTPSFTransform(psf_meta)"
   ]
  },
  {
   "cell_type": "markdown",
   "metadata": {},
   "source": [
    "## Part 2: Building the MC system matrix"
   ]
  },
  {
   "cell_type": "markdown",
   "metadata": {},
   "source": [
    "Now we need to reconstruct the system matrix used for MC forward projection. We need to decide the isotopes to simulate in this simulator. Note that we already specified isotope names above, but that was to create synthetic data. We do this agian below to clearly show that we are now developing a system matrix for reconstruction.\n",
    "* For Pb-212, three of the daughters need to be simulated, since they all contribute to the 238keV window that we are going to reconstruct."
   ]
  },
  {
   "cell_type": "code",
   "execution_count": 7,
   "metadata": {},
   "outputs": [],
   "source": [
    "# note: the collimator name is the one I used to generate the\n",
    "# projection data\n",
    "if ISOTOPE == 'pb212':\n",
    "    isotope_names = ['pb212', 'bi212', 'tl208']\n",
    "    isotope_ratios = [1, 1.105, 0.4]\n",
    "    collimator_type = 'SY-HE'\n",
    "elif ISOTOPE == 'lu177':\n",
    "    isotope_names = ['lu177']\n",
    "    isotope_ratios = [1]\n",
    "    collimator_type = 'SY-ME'\n",
    "elif ISOTOPE == 'y90':\n",
    "    isotope_names = ['y90']\n",
    "    isotope_ratios = [1]\n",
    "    collimator_type = 'SY-HE'"
   ]
  },
  {
   "cell_type": "markdown",
   "metadata": {},
   "source": [
    "Now we'll set the scanner parameters used in the MC simulation. These are the same parameters I used to generate the data, so this represents a perfect MC simulation."
   ]
  },
  {
   "cell_type": "code",
   "execution_count": 8,
   "metadata": {},
   "outputs": [],
   "source": [
    "cover_thickness = 0.1 # assumed to be aluminum\n",
    "backscatter_thickness = 6.6 # assumed to be pyrex\n",
    "# the argument below is optional, only siemens currently implemented.\n",
    "# if not provided, then assumes energy resolution is proportional to \n",
    "# 1/sqrt(E)\n",
    "advanced_energy_resolution_model='siemens' \n",
    "# if the energy resolution model above is not used, then\n",
    "# the energy resolution needs to be provided at 140keV in\n",
    "# units of percent.\n",
    "energy_resolution_140keV = 10 # %\n",
    "crystal_thickness = 0.9525  # assumed to be NaI"
   ]
  },
  {
   "cell_type": "markdown",
   "metadata": {},
   "source": [
    "We also need the energy window parameters. Since the projections are ordered [lower,peak,upper], we use an index of 1 to get the photopeak index. It is a good idea to print the energy window params to ensure you are indeed binning photons within the correct energy window during reconstruction."
   ]
  },
  {
   "cell_type": "code",
   "execution_count": 9,
   "metadata": {},
   "outputs": [
    {
     "data": {
      "text/plain": [
       "['187.1999969482422,228.8000030517578,0']"
      ]
     },
     "execution_count": 9,
     "metadata": {},
     "output_type": "execute_result"
    }
   ],
   "source": [
    "energy_window_params = simind_mc.get_energy_window_params_simind(files_NM[1])\n",
    "energy_window_params"
   ]
  },
  {
   "cell_type": "markdown",
   "metadata": {},
   "source": [
    "We also need to choose the number of photons to simulate per projection, as well as the number of parallel CPU jobs to run. I find the 200 million photons per projection works reasonably well for most isotopes. Since I have a powerful computer, I use 90 CPU cores in parallel to run projection (if you have the option, you should select a computer with more CPU power as opposed to GPU power since SIMIND only runs on CPU).\n",
    "* Change `n_parallel` to how many CPU cores your system has, most have around 8-16."
   ]
  },
  {
   "cell_type": "code",
   "execution_count": null,
   "metadata": {},
   "outputs": [],
   "source": [
    "# this configuration takes around 20min; you can try lowering the number of events\n",
    "n_events = 200e6\n",
    "n_parallel = 90"
   ]
  },
  {
   "cell_type": "markdown",
   "metadata": {},
   "source": [
    "Now we'll build the hybrid system matrix, which performs MC forward projection and analytical back projection"
   ]
  },
  {
   "cell_type": "code",
   "execution_count": 11,
   "metadata": {},
   "outputs": [],
   "source": [
    "system_matrix = simind_mc.MonteCarloHybridSPECTSystemMatrix(\n",
    "        object_meta,\n",
    "        proj_meta,\n",
    "        obj2obj_transforms=[att_transform, psf_transform],\n",
    "        proj2proj_transforms=[],\n",
    "        attenuation_map_140keV=amap140keV,\n",
    "        energy_window_params=energy_window_params,\n",
    "        primary_window_idx=0, # index of energy_window_params to use\n",
    "        isotope_names=isotope_names,\n",
    "        isotope_ratios=isotope_ratios,\n",
    "        collimator_type=collimator_type,\n",
    "        crystal_thickness=crystal_thickness,\n",
    "        cover_thickness=cover_thickness,\n",
    "        backscatter_thickness=backscatter_thickness,\n",
    "        advanced_energy_resolution_model=advanced_energy_resolution_model,\n",
    "        advanced_collimator_modeling=True, # include septal penetration/scatter\n",
    "        n_events=n_events,\n",
    "        n_parallel=n_parallel\n",
    "    )"
   ]
  },
  {
   "cell_type": "markdown",
   "metadata": {},
   "source": [
    "Now we define the likelihood and algorithm and reconstruct.\n",
    "* A new likelihood function is used that prevents divergence from finite number of photons being simulated in the MC simulation"
   ]
  },
  {
   "cell_type": "code",
   "execution_count": 12,
   "metadata": {},
   "outputs": [],
   "source": [
    "likelihood = simind_mc.MonteCarloHybridSPECTPoissonLogLikelihood(system_matrix, photopeak)\n",
    "algorithm = OSEM(likelihood)\n",
    "# for now just 1 iteration but you can change \n",
    "recon_MC = algorithm(n_iters=1, n_subsets=16)"
   ]
  },
  {
   "cell_type": "markdown",
   "metadata": {},
   "source": [
    "We can also compare to an analytical reconstruction approach"
   ]
  },
  {
   "cell_type": "code",
   "execution_count": 13,
   "metadata": {},
   "outputs": [],
   "source": [
    "system_matrix = SPECTSystemMatrix(\n",
    "        obj2obj_transforms=[att_transform, psf_transform],\n",
    "        proj2proj_transforms=[],\n",
    "        object_meta=object_meta,\n",
    "        proj_meta=proj_meta,\n",
    "    )\n",
    "likelihood = PoissonLogLikelihood(system_matrix, photopeak, additive_TEW)\n",
    "algorithm = OSEM(likelihood)\n",
    "recon_analytical = algorithm(n_iters=1, n_subsets=16)"
   ]
  },
  {
   "cell_type": "code",
   "execution_count": 15,
   "metadata": {},
   "outputs": [
    {
     "data": {
      "image/png": "[encoded data removed]",
      "text/plain": [
       "<Figure size 600x300 with 2 Axes>"
      ]
     },
     "metadata": {},
     "output_type": "display_data"
    }
   ],
   "source": [
    "fig, ax = plt.subplots(1,2,figsize=(6,3), gridspec_kw={'wspace':0.0})\n",
    "ax[0].imshow(recon_MC[:,:,64].cpu().T, interpolation='gaussian', cmap='magma')\n",
    "ax[0].set_title('MC')\n",
    "ax[1].imshow(recon_analytical[:,:,64].cpu().T, interpolation='gaussian', cmap='magma')\n",
    "ax[1].set_title('Analytical')\n",
    "[a.axis('off') for a in ax.ravel()]\n",
    "plt.show()\n"
   ]
  }
 ],
 "metadata": {
  "kernelspec": {
   "display_name": "base",
   "language": "python",
   "name": "python3"
  },
  "language_info": {
   "codemirror_mode": {
    "name": "ipython",
    "version": 3
   },
   "file_extension": ".py",
   "mimetype": "text/x-python",
   "name": "python",
   "nbconvert_exporter": "python",
   "pygments_lexer": "ipython3",
   "version": "3.10.9"
  }
 },
 "nbformat": 4,
 "nbformat_minor": 2
}
