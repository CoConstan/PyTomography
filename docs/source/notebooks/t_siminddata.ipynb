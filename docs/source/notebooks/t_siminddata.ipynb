{
 "cells": [
  {
   "cell_type": "markdown",
   "id": "dd79813f",
   "metadata": {
    "papermill": {
     "duration": 0.006425,
     "end_time": "2024-11-19T22:18:41.597850",
     "exception": false,
     "start_time": "2024-11-19T22:18:41.591425",
     "status": "completed"
    },
    "tags": []
   },
   "source": [
    "# SIMIND Introduction"
   ]
  },
  {
   "cell_type": "code",
   "execution_count": 1,
   "id": "c799a601",
   "metadata": {
    "execution": {
     "iopub.execute_input": "2024-11-19T22:18:41.610812Z",
     "iopub.status.busy": "2024-11-19T22:18:41.610075Z",
     "iopub.status.idle": "2024-11-19T22:18:45.402884Z",
     "shell.execute_reply": "2024-11-19T22:18:45.401545Z"
    },
    "papermill": {
     "duration": 3.801381,
     "end_time": "2024-11-19T22:18:45.404857",
     "exception": false,
     "start_time": "2024-11-19T22:18:41.603476",
     "status": "completed"
    },
    "tags": []
   },
   "outputs": [],
   "source": [
    "import inspect\n",
    "import matplotlib.pyplot as plt\n",
    "import torch\n",
    "from pytomography.io.SPECT import simind\n",
    "from pytomography.projectors.SPECT import SPECTSystemMatrix\n",
    "from pytomography.transforms.SPECT import SPECTAttenuationTransform, SPECTPSFTransform\n",
    "from pytomography.algorithms import OSEM\n",
    "from pytomography.likelihoods import PoissonLogLikelihood\n",
    "import os"
   ]
  },
  {
   "cell_type": "code",
   "execution_count": 2,
   "id": "b7ccacb1",
   "metadata": {
    "execution": {
     "iopub.execute_input": "2024-11-19T22:18:45.418974Z",
     "iopub.status.busy": "2024-11-19T22:18:45.417726Z",
     "iopub.status.idle": "2024-11-19T22:18:45.422735Z",
     "shell.execute_reply": "2024-11-19T22:18:45.422164Z"
    },
    "papermill": {
     "duration": 0.013267,
     "end_time": "2024-11-19T22:18:45.423938",
     "exception": false,
     "start_time": "2024-11-19T22:18:45.410671",
     "status": "completed"
    },
    "tags": []
   },
   "outputs": [],
   "source": [
    "# CHANGE THIS TO WHERE YOU DOWNLOADED THE TUTORIAL DATA\n",
    "PATH = '/disk1/pytomography_tutorial_data'\n",
    "data_path = os.path.join(PATH, 'simind_tutorial', 'lu177_SYME_jaszak')"
   ]
  },
  {
   "cell_type": "markdown",
   "id": "57ee85a7",
   "metadata": {
    "papermill": {
     "duration": 0.006493,
     "end_time": "2024-11-19T22:18:45.435720",
     "exception": false,
     "start_time": "2024-11-19T22:18:45.429227",
     "status": "completed"
    },
    "tags": []
   },
   "source": [
    "## 1. Opening Data"
   ]
  },
  {
   "cell_type": "markdown",
   "id": "a66388dc",
   "metadata": {
    "papermill": {
     "duration": 0.005082,
     "end_time": "2024-11-19T22:18:45.445978",
     "exception": false,
     "start_time": "2024-11-19T22:18:45.440896",
     "status": "completed"
    },
    "tags": []
   },
   "source": [
    "First we specify the save paths corresponding to the SIMIND header files for each of the three energy windows"
   ]
  },
  {
   "cell_type": "code",
   "execution_count": 3,
   "id": "26b1e869",
   "metadata": {
    "execution": {
     "iopub.execute_input": "2024-11-19T22:18:45.458558Z",
     "iopub.status.busy": "2024-11-19T22:18:45.458210Z",
     "iopub.status.idle": "2024-11-19T22:18:45.462230Z",
     "shell.execute_reply": "2024-11-19T22:18:45.461643Z"
    },
    "papermill": {
     "duration": 0.011197,
     "end_time": "2024-11-19T22:18:45.463476",
     "exception": false,
     "start_time": "2024-11-19T22:18:45.452279",
     "status": "completed"
    },
    "tags": []
   },
   "outputs": [],
   "source": [
    "photopeak_path = os.path.join(data_path,'tot_w4.h00')\n",
    "lower_path = os.path.join(data_path, 'tot_w5.h00')\n",
    "upper_path = os.path.join(data_path, 'tot_w6.h00')"
   ]
  },
  {
   "cell_type": "markdown",
   "id": "da5c549a",
   "metadata": {
    "papermill": {
     "duration": 0.006237,
     "end_time": "2024-11-19T22:18:45.474888",
     "exception": false,
     "start_time": "2024-11-19T22:18:45.468651",
     "status": "completed"
    },
    "tags": []
   },
   "source": [
    "PyTomography stores information such as voxel size, image dimensions, in metadata:\n",
    "* `ObjectMeta`: Voxel size, image dimensions\n",
    "* `ProjMeta` (for SPECT): detector angles, radial positions, detector pixel size/dimensions"
   ]
  },
  {
   "cell_type": "code",
   "execution_count": 4,
   "id": "b5f715fa",
   "metadata": {
    "execution": {
     "iopub.execute_input": "2024-11-19T22:18:45.486517Z",
     "iopub.status.busy": "2024-11-19T22:18:45.486011Z",
     "iopub.status.idle": "2024-11-19T22:18:45.715017Z",
     "shell.execute_reply": "2024-11-19T22:18:45.714251Z"
    },
    "papermill": {
     "duration": 0.236902,
     "end_time": "2024-11-19T22:18:45.716899",
     "exception": false,
     "start_time": "2024-11-19T22:18:45.479997",
     "status": "completed"
    },
    "tags": []
   },
   "outputs": [],
   "source": [
    "object_meta, proj_meta = simind.get_metadata(photopeak_path)"
   ]
  },
  {
   "cell_type": "code",
   "execution_count": 5,
   "id": "7e1a770e",
   "metadata": {
    "execution": {
     "iopub.execute_input": "2024-11-19T22:18:45.729447Z",
     "iopub.status.busy": "2024-11-19T22:18:45.729175Z",
     "iopub.status.idle": "2024-11-19T22:18:45.736119Z",
     "shell.execute_reply": "2024-11-19T22:18:45.735328Z"
    },
    "papermill": {
     "duration": 0.014657,
     "end_time": "2024-11-19T22:18:45.737485",
     "exception": false,
     "start_time": "2024-11-19T22:18:45.722828",
     "status": "completed"
    },
    "tags": []
   },
   "outputs": [
    {
     "data": {
      "text/plain": [
       "dr = (0.48000001907348633, 0.48000001907348633, 0.48000001907348633)\n",
       "dx = 0.48000001907348633\n",
       "dy = 0.48000001907348633\n",
       "dz = 0.48000001907348633\n",
       "pad_size = 27\n",
       "padded_shape = (182, 182, 128)\n",
       "recon_method = None\n",
       "shape = (128, 128, 128)\n",
       "units = counts"
      ]
     },
     "execution_count": 5,
     "metadata": {},
     "output_type": "execute_result"
    }
   ],
   "source": [
    "object_meta"
   ]
  },
  {
   "cell_type": "code",
   "execution_count": 6,
   "id": "ca64ab21",
   "metadata": {
    "execution": {
     "iopub.execute_input": "2024-11-19T22:18:45.749389Z",
     "iopub.status.busy": "2024-11-19T22:18:45.748843Z",
     "iopub.status.idle": "2024-11-19T22:18:45.875714Z",
     "shell.execute_reply": "2024-11-19T22:18:45.875064Z"
    },
    "papermill": {
     "duration": 0.134333,
     "end_time": "2024-11-19T22:18:45.877128",
     "exception": false,
     "start_time": "2024-11-19T22:18:45.742795",
     "status": "completed"
    },
    "tags": []
   },
   "outputs": [
    {
     "data": {
      "text/plain": [
       "angles = tensor([  0.0000,   3.7500,   7.5000,  11.2500,  15.0000,  18.7500,  22.5000,\n",
       "         26.2500,  30.0000,  33.7500,  37.5000,  41.2500,  45.0000,  48.7500,\n",
       "         52.5000,  56.2500,  60.0000,  63.7500,  67.5000,  71.2500,  75.0000,\n",
       "         78.7500,  82.5000,  86.2500,  90.0000,  93.7500,  97.5000, 101.2500,\n",
       "        105.0000, 108.7500, 112.5000, 116.2500, 120.0000, 123.7500, 127.5000,\n",
       "        131.2500, 135.0000, 138.7500, 142.5000, 146.2500, 150.0000, 153.7500,\n",
       "        157.5000, 161.2500, 165.0000, 168.7500, 172.5000, 176.2500, 180.0000,\n",
       "        183.7500, 187.5000, 191.2500, 195.0000, 198.7500, 202.5000, 206.2500,\n",
       "        210.0000, 213.7500, 217.5000, 221.2500, 225.0000, 228.7500, 232.5000,\n",
       "        236.2500, 240.0000, 243.7500, 247.5000, 251.2500, 255.0000, 258.7500,\n",
       "        262.5000, 266.2500, 270.0000, 273.7500, 277.5000, 281.2500, 285.0000,\n",
       "        288.7500, 292.5000, 296.2500, 300.0000, 303.7500, 307.5000, 311.2500,\n",
       "        315.0000, 318.7500, 322.5000, 326.2500, 330.0000, 333.7500, 337.5000,\n",
       "        341.2500, 345.0000, 348.7500, 352.5000, 356.2500], device='cuda:0')\n",
       "dr = (0.48000001907348633, 0.48000001907348633)\n",
       "num_projections = 96\n",
       "pad_size = 27\n",
       "padded_shape = (96, 182, 128)\n",
       "radii = [15. 15. 15. 15. 15. 15. 15. 15. 15. 15. 15. 15. 15. 15. 15. 15. 15. 15.\n",
       " 15. 15. 15. 15. 15. 15. 15. 15. 15. 15. 15. 15. 15. 15. 15. 15. 15. 15.\n",
       " 15. 15. 15. 15. 15. 15. 15. 15. 15. 15. 15. 15. 15. 15. 15. 15. 15. 15.\n",
       " 15. 15. 15. 15. 15. 15. 15. 15. 15. 15. 15. 15. 15. 15. 15. 15. 15. 15.\n",
       " 15. 15. 15. 15. 15. 15. 15. 15. 15. 15. 15. 15. 15. 15. 15. 15. 15. 15.\n",
       " 15. 15. 15. 15. 15. 15.]\n",
       "shape = (96, 128, 128)"
      ]
     },
     "execution_count": 6,
     "metadata": {},
     "output_type": "execute_result"
    }
   ],
   "source": [
    "proj_meta"
   ]
  },
  {
   "cell_type": "markdown",
   "id": "b805c640",
   "metadata": {
    "papermill": {
     "duration": 0.005337,
     "end_time": "2024-11-19T22:18:45.888473",
     "exception": false,
     "start_time": "2024-11-19T22:18:45.883136",
     "status": "completed"
    },
    "tags": []
   },
   "source": [
    "The actual projection data itself is loaded as follows:"
   ]
  },
  {
   "cell_type": "code",
   "execution_count": 7,
   "id": "346f8d22",
   "metadata": {
    "execution": {
     "iopub.execute_input": "2024-11-19T22:18:45.900635Z",
     "iopub.status.busy": "2024-11-19T22:18:45.900123Z",
     "iopub.status.idle": "2024-11-19T22:18:46.006624Z",
     "shell.execute_reply": "2024-11-19T22:18:46.006099Z"
    },
    "papermill": {
     "duration": 0.114138,
     "end_time": "2024-11-19T22:18:46.007914",
     "exception": false,
     "start_time": "2024-11-19T22:18:45.893776",
     "status": "completed"
    },
    "tags": []
   },
   "outputs": [
    {
     "data": {
      "text/plain": [
       "torch.Size([96, 128, 128])"
      ]
     },
     "execution_count": 7,
     "metadata": {},
     "output_type": "execute_result"
    }
   ],
   "source": [
    "photopeak = simind.get_projections(photopeak_path)\n",
    "photopeak.shape"
   ]
  },
  {
   "cell_type": "markdown",
   "id": "99203515",
   "metadata": {
    "papermill": {
     "duration": 0.005628,
     "end_time": "2024-11-19T22:18:46.019663",
     "exception": false,
     "start_time": "2024-11-19T22:18:46.014035",
     "status": "completed"
    },
    "tags": []
   },
   "source": [
    "This corresponds to 96 angles where each projection is 256x256. We can plot these projections as follows:"
   ]
  },
  {
   "cell_type": "code",
   "execution_count": 8,
   "id": "e1db02d7",
   "metadata": {
    "execution": {
     "iopub.execute_input": "2024-11-19T22:18:46.032386Z",
     "iopub.status.busy": "2024-11-19T22:18:46.031650Z",
     "iopub.status.idle": "2024-11-19T22:18:46.161367Z",
     "shell.execute_reply": "2024-11-19T22:18:46.160844Z"
    },
    "papermill": {
     "duration": 0.137459,
     "end_time": "2024-11-19T22:18:46.162624",
     "exception": false,
     "start_time": "2024-11-19T22:18:46.025165",
     "status": "completed"
    },
    "tags": []
   },
   "outputs": [
    {
     "data": {
      "image/png": "[encoded data removed]",
      "text/plain": [
       "<Figure size 800x240 with 4 Axes>"
      ]
     },
     "metadata": {},
     "output_type": "display_data"
    }
   ],
   "source": [
    "fig, ax = plt.subplots(1,4,figsize=(8,2.4), gridspec_kw={'wspace':0.0})\n",
    "for i in range(4):\n",
    "    ax[i].imshow(photopeak[10*i].cpu().T, cmap='magma')\n",
    "    ax[i].axis('off')\n",
    "    ax[i].text(0.03, 0.97, f'Angle: {10*proj_meta.angles[i]}dg', ha='left', va='top', color='white', transform=ax[i].transAxes, fontsize=12)"
   ]
  },
  {
   "cell_type": "markdown",
   "id": "e0926cd0",
   "metadata": {
    "papermill": {
     "duration": 0.006091,
     "end_time": "2024-11-19T22:18:46.175228",
     "exception": false,
     "start_time": "2024-11-19T22:18:46.169137",
     "status": "completed"
    },
    "tags": []
   },
   "source": [
    "Raw SIMIND data has units of Counts / Second / MBq and represents the *expectation value* of the measured data in each detector bin. We can generate clinically realistic data by \n",
    "1. scaling by time and activity (converting to units of counts)\n",
    "2. obtaining a Poisson realization"
   ]
  },
  {
   "cell_type": "code",
   "execution_count": 9,
   "id": "8066a946",
   "metadata": {
    "execution": {
     "iopub.execute_input": "2024-11-19T22:18:46.188330Z",
     "iopub.status.busy": "2024-11-19T22:18:46.187912Z",
     "iopub.status.idle": "2024-11-19T22:18:46.208616Z",
     "shell.execute_reply": "2024-11-19T22:18:46.207926Z"
    },
    "papermill": {
     "duration": 0.029075,
     "end_time": "2024-11-19T22:18:46.209996",
     "exception": false,
     "start_time": "2024-11-19T22:18:46.180921",
     "status": "completed"
    },
    "tags": []
   },
   "outputs": [],
   "source": [
    "activity = 1000 # MBq \n",
    "time_per_proj = 15 # s\n",
    "photopeak_realization = torch.poisson(photopeak * activity * time_per_proj)"
   ]
  },
  {
   "cell_type": "markdown",
   "id": "7f287cfd",
   "metadata": {
    "papermill": {
     "duration": 0.005734,
     "end_time": "2024-11-19T22:18:46.221897",
     "exception": false,
     "start_time": "2024-11-19T22:18:46.216163",
     "status": "completed"
    },
    "tags": []
   },
   "source": [
    "The actual data is noisier:"
   ]
  },
  {
   "cell_type": "code",
   "execution_count": 10,
   "id": "5933329f",
   "metadata": {
    "execution": {
     "iopub.execute_input": "2024-11-19T22:18:46.236571Z",
     "iopub.status.busy": "2024-11-19T22:18:46.234688Z",
     "iopub.status.idle": "2024-11-19T22:18:46.350019Z",
     "shell.execute_reply": "2024-11-19T22:18:46.349393Z"
    },
    "papermill": {
     "duration": 0.123658,
     "end_time": "2024-11-19T22:18:46.351375",
     "exception": false,
     "start_time": "2024-11-19T22:18:46.227717",
     "status": "completed"
    },
    "tags": []
   },
   "outputs": [
    {
     "data": {
      "image/png": "[encoded data removed]",
      "text/plain": [
       "<Figure size 800x240 with 4 Axes>"
      ]
     },
     "metadata": {},
     "output_type": "display_data"
    }
   ],
   "source": [
    "fig, ax = plt.subplots(1,4,figsize=(8,2.4), gridspec_kw={'wspace':0.0})\n",
    "for i in range(4):\n",
    "    ax[i].imshow(photopeak_realization[10*i].cpu().T, cmap='magma')\n",
    "    ax[i].axis('off')\n",
    "    ax[i].text(0.03, 0.97, f'Angle {10*i}', ha='left', va='top', color='white', transform=ax[i].transAxes, fontsize=12)"
   ]
  },
  {
   "cell_type": "markdown",
   "id": "df67969a",
   "metadata": {
    "papermill": {
     "duration": 0.008469,
     "end_time": "2024-11-19T22:18:46.367041",
     "exception": false,
     "start_time": "2024-11-19T22:18:46.358572",
     "status": "completed"
    },
    "tags": []
   },
   "source": [
    "We can do similar things for the adjacent scatter windows:"
   ]
  },
  {
   "cell_type": "code",
   "execution_count": 11,
   "id": "68197b7c",
   "metadata": {
    "execution": {
     "iopub.execute_input": "2024-11-19T22:18:46.385069Z",
     "iopub.status.busy": "2024-11-19T22:18:46.384830Z",
     "iopub.status.idle": "2024-11-19T22:18:46.540684Z",
     "shell.execute_reply": "2024-11-19T22:18:46.540077Z"
    },
    "papermill": {
     "duration": 0.166154,
     "end_time": "2024-11-19T22:18:46.542786",
     "exception": false,
     "start_time": "2024-11-19T22:18:46.376632",
     "status": "completed"
    },
    "tags": []
   },
   "outputs": [],
   "source": [
    "lower = simind.get_projections(lower_path)\n",
    "upper = simind.get_projections(upper_path)\n",
    "lower_realization = torch.poisson(lower * activity * time_per_proj)\n",
    "upper_realization = torch.poisson(upper * activity * time_per_proj)"
   ]
  },
  {
   "cell_type": "markdown",
   "id": "d0a4e66f",
   "metadata": {
    "papermill": {
     "duration": 0.00624,
     "end_time": "2024-11-19T22:18:46.556412",
     "exception": false,
     "start_time": "2024-11-19T22:18:46.550172",
     "status": "completed"
    },
    "tags": []
   },
   "source": [
    "These adjacent energy windows can be used to get an estimate for the scatter in the photopeak window via the triple energy window (TEW) technique:"
   ]
  },
  {
   "cell_type": "code",
   "execution_count": 12,
   "id": "c4da3070",
   "metadata": {
    "execution": {
     "iopub.execute_input": "2024-11-19T22:18:46.571337Z",
     "iopub.status.busy": "2024-11-19T22:18:46.571001Z",
     "iopub.status.idle": "2024-11-19T22:18:46.585402Z",
     "shell.execute_reply": "2024-11-19T22:18:46.584861Z"
    },
    "papermill": {
     "duration": 0.023488,
     "end_time": "2024-11-19T22:18:46.586845",
     "exception": false,
     "start_time": "2024-11-19T22:18:46.563357",
     "status": "completed"
    },
    "tags": []
   },
   "outputs": [],
   "source": [
    "ww_peak, ww_lower, ww_upper = [simind.get_energy_window_width(path) for path in [photopeak_path, lower_path, upper_path]]\n",
    "scatter_estimate_TEW = simind.compute_EW_scatter(lower_realization, upper_realization , ww_lower, ww_upper, ww_peak)"
   ]
  },
  {
   "cell_type": "code",
   "execution_count": 13,
   "id": "63bbfc3b",
   "metadata": {
    "execution": {
     "iopub.execute_input": "2024-11-19T22:18:46.601238Z",
     "iopub.status.busy": "2024-11-19T22:18:46.600854Z",
     "iopub.status.idle": "2024-11-19T22:18:46.714073Z",
     "shell.execute_reply": "2024-11-19T22:18:46.713561Z"
    },
    "papermill": {
     "duration": 0.122495,
     "end_time": "2024-11-19T22:18:46.715956",
     "exception": false,
     "start_time": "2024-11-19T22:18:46.593461",
     "status": "completed"
    },
    "tags": []
   },
   "outputs": [
    {
     "data": {
      "image/png": "[encoded data removed]",
      "text/plain": [
       "<Figure size 800x240 with 4 Axes>"
      ]
     },
     "metadata": {},
     "output_type": "display_data"
    }
   ],
   "source": [
    "fig, ax = plt.subplots(1,4,figsize=(8,2.4), gridspec_kw={'wspace':0.0})\n",
    "for i in range(4):\n",
    "    ax[i].imshow(scatter_estimate_TEW[10*i].cpu().T, cmap='magma')\n",
    "    ax[i].axis('off')\n",
    "    ax[i].text(0.03, 0.97, f'Angle {10*i}', ha='left', va='top', color='white', transform=ax[i].transAxes, fontsize=12)"
   ]
  },
  {
   "cell_type": "markdown",
   "id": "28cf5179",
   "metadata": {
    "papermill": {
     "duration": 0.007165,
     "end_time": "2024-11-19T22:18:46.731650",
     "exception": false,
     "start_time": "2024-11-19T22:18:46.724485",
     "status": "completed"
    },
    "tags": []
   },
   "source": [
    "## 2. Creating the System Matrix"
   ]
  },
  {
   "cell_type": "markdown",
   "id": "c1195846",
   "metadata": {
    "papermill": {
     "duration": 0.006767,
     "end_time": "2024-11-19T22:18:46.745200",
     "exception": false,
     "start_time": "2024-11-19T22:18:46.738433",
     "status": "completed"
    },
    "tags": []
   },
   "source": [
    "The SPECT system matrix depends on modeling (i) attenuation and (ii) collimator detector response (or point spread function)"
   ]
  },
  {
   "cell_type": "markdown",
   "id": "56cc57de",
   "metadata": {
    "papermill": {
     "duration": 0.006942,
     "end_time": "2024-11-19T22:18:46.759028",
     "exception": false,
     "start_time": "2024-11-19T22:18:46.752086",
     "status": "completed"
    },
    "tags": []
   },
   "source": [
    "### 2.1 Attenuation Modeling"
   ]
  },
  {
   "cell_type": "markdown",
   "id": "dbf60f8d",
   "metadata": {
    "papermill": {
     "duration": 0.007049,
     "end_time": "2024-11-19T22:18:46.773011",
     "exception": false,
     "start_time": "2024-11-19T22:18:46.765962",
     "status": "completed"
    },
    "tags": []
   },
   "source": [
    "For attenuation modeling we need the corresponding attenuation map. The SIMIND generated attenuation map can be loaded as follows:"
   ]
  },
  {
   "cell_type": "code",
   "execution_count": 14,
   "id": "feac3eba",
   "metadata": {
    "execution": {
     "iopub.execute_input": "2024-11-19T22:18:46.788597Z",
     "iopub.status.busy": "2024-11-19T22:18:46.788171Z",
     "iopub.status.idle": "2024-11-19T22:18:46.885674Z",
     "shell.execute_reply": "2024-11-19T22:18:46.884905Z"
    },
    "papermill": {
     "duration": 0.107692,
     "end_time": "2024-11-19T22:18:46.887752",
     "exception": false,
     "start_time": "2024-11-19T22:18:46.780060",
     "status": "completed"
    },
    "tags": []
   },
   "outputs": [],
   "source": [
    "path_amap = os.path.join(data_path, 'amap.hct')\n",
    "amap = simind.get_attenuation_map(path_amap)"
   ]
  },
  {
   "cell_type": "markdown",
   "id": "faa2a995",
   "metadata": {
    "papermill": {
     "duration": 0.007175,
     "end_time": "2024-11-19T22:18:46.902521",
     "exception": false,
     "start_time": "2024-11-19T22:18:46.895346",
     "status": "completed"
    },
    "tags": []
   },
   "source": [
    "We can plot a 3D axial slice of this phantom (cylinder) as follows:"
   ]
  },
  {
   "cell_type": "code",
   "execution_count": 15,
   "id": "350ae47e",
   "metadata": {
    "execution": {
     "iopub.execute_input": "2024-11-19T22:18:46.920083Z",
     "iopub.status.busy": "2024-11-19T22:18:46.919820Z",
     "iopub.status.idle": "2024-11-19T22:18:47.025656Z",
     "shell.execute_reply": "2024-11-19T22:18:47.025105Z"
    },
    "papermill": {
     "duration": 0.117648,
     "end_time": "2024-11-19T22:18:47.026970",
     "exception": false,
     "start_time": "2024-11-19T22:18:46.909322",
     "status": "completed"
    },
    "tags": []
   },
   "outputs": [
    {
     "data": {
      "text/plain": [
       "<matplotlib.colorbar.Colorbar at 0x7f42aebee550>"
      ]
     },
     "execution_count": 15,
     "metadata": {},
     "output_type": "execute_result"
    },
    {
     "data": {
      "image/png": "[encoded data removed]",
      "text/plain": [
       "<Figure size 300x300 with 2 Axes>"
      ]
     },
     "metadata": {},
     "output_type": "display_data"
    }
   ],
   "source": [
    "plt.figure(figsize=(3,3))\n",
    "plt.imshow(amap[:,:,64].cpu().T, cmap='Greys_r')\n",
    "plt.axis('off')\n",
    "plt.colorbar(label='1 / cm')"
   ]
  },
  {
   "cell_type": "markdown",
   "id": "d1ba3df5",
   "metadata": {
    "papermill": {
     "duration": 0.047387,
     "end_time": "2024-11-19T22:18:47.082286",
     "exception": false,
     "start_time": "2024-11-19T22:18:47.034899",
     "status": "completed"
    },
    "tags": []
   },
   "source": [
    "From this attenuation map we build a `SPECTAttenuationTransform`, which will eventually be used in creating the system matrix"
   ]
  },
  {
   "cell_type": "code",
   "execution_count": 16,
   "id": "775db2ff",
   "metadata": {
    "execution": {
     "iopub.execute_input": "2024-11-19T22:18:47.099386Z",
     "iopub.status.busy": "2024-11-19T22:18:47.098923Z",
     "iopub.status.idle": "2024-11-19T22:18:47.102958Z",
     "shell.execute_reply": "2024-11-19T22:18:47.102335Z"
    },
    "papermill": {
     "duration": 0.014636,
     "end_time": "2024-11-19T22:18:47.104245",
     "exception": false,
     "start_time": "2024-11-19T22:18:47.089609",
     "status": "completed"
    },
    "tags": []
   },
   "outputs": [],
   "source": [
    "att_transform = SPECTAttenuationTransform(amap)"
   ]
  },
  {
   "cell_type": "markdown",
   "id": "34214677",
   "metadata": {
    "papermill": {
     "duration": 0.007225,
     "end_time": "2024-11-19T22:18:47.118736",
     "exception": false,
     "start_time": "2024-11-19T22:18:47.111511",
     "status": "completed"
    },
    "tags": []
   },
   "source": [
    "### 2.2 Collimator Detector Response (or Point Spread Function) Modeling"
   ]
  },
  {
   "cell_type": "markdown",
   "id": "337dc90f",
   "metadata": {
    "papermill": {
     "duration": 0.007376,
     "end_time": "2024-11-19T22:18:47.133557",
     "exception": false,
     "start_time": "2024-11-19T22:18:47.126181",
     "status": "completed"
    },
    "tags": []
   },
   "source": [
    "A perfect SPECT detector would only allow photons travelling perpendicular to the collimator holes to be detected: in practice this is not the case. The angle at which photons can enter depends on the collimator/scintillator parameters. We can get the metadata from the header as follows:\n",
    "\n",
    "* The information gives the function/parameters for the point spread function, which depends on the distance between the source/detector $r$"
   ]
  },
  {
   "cell_type": "code",
   "execution_count": 17,
   "id": "ace4d645",
   "metadata": {
    "execution": {
     "iopub.execute_input": "2024-11-19T22:18:47.149760Z",
     "iopub.status.busy": "2024-11-19T22:18:47.149118Z",
     "iopub.status.idle": "2024-11-19T22:18:47.157636Z",
     "shell.execute_reply": "2024-11-19T22:18:47.157169Z"
    },
    "papermill": {
     "duration": 0.017967,
     "end_time": "2024-11-19T22:18:47.158820",
     "exception": false,
     "start_time": "2024-11-19T22:18:47.140853",
     "status": "completed"
    },
    "tags": []
   },
   "outputs": [
    {
     "name": "stdout",
     "output_type": "stream",
     "text": [
      "kernel_dimensions = 2D\n",
      "min_sigmas = 3\n",
      "shape = gaussian\n",
      "sigma_fit_params = [0.03161992025662508, 0.12485030454109175, 0.12542298841500965]\n",
      "\n",
      "    sigma_fit = lambda r, a, b, c: np.sqrt((a*r+b)**2+c**2)\n",
      "\n"
     ]
    }
   ],
   "source": [
    "psf_meta = simind.get_psfmeta_from_header(photopeak_path)\n",
    "# Below is optional to print details about psf_meta\n",
    "sigma_fit_func_code = inspect.getsource(psf_meta.sigma_fit)\n",
    "print(psf_meta)\n",
    "print(sigma_fit_func_code)"
   ]
  },
  {
   "cell_type": "markdown",
   "id": "107caafd",
   "metadata": {
    "papermill": {
     "duration": 0.00727,
     "end_time": "2024-11-19T22:18:47.173496",
     "exception": false,
     "start_time": "2024-11-19T22:18:47.166226",
     "status": "completed"
    },
    "tags": []
   },
   "source": [
    "As before, we create a `Transform` with this metadata, which we will soon provide to the system matrix"
   ]
  },
  {
   "cell_type": "code",
   "execution_count": 18,
   "id": "c222ce09",
   "metadata": {
    "execution": {
     "iopub.execute_input": "2024-11-19T22:18:47.190814Z",
     "iopub.status.busy": "2024-11-19T22:18:47.190483Z",
     "iopub.status.idle": "2024-11-19T22:18:47.193603Z",
     "shell.execute_reply": "2024-11-19T22:18:47.193027Z"
    },
    "papermill": {
     "duration": 0.012793,
     "end_time": "2024-11-19T22:18:47.194884",
     "exception": false,
     "start_time": "2024-11-19T22:18:47.182091",
     "status": "completed"
    },
    "tags": []
   },
   "outputs": [],
   "source": [
    "psf_transform = SPECTPSFTransform(psf_meta)"
   ]
  },
  {
   "cell_type": "markdown",
   "id": "7a0baa22",
   "metadata": {
    "papermill": {
     "duration": 0.007347,
     "end_time": "2024-11-19T22:18:47.209579",
     "exception": false,
     "start_time": "2024-11-19T22:18:47.202232",
     "status": "completed"
    },
    "tags": []
   },
   "source": [
    "### 2.3 Creating the system matrix"
   ]
  },
  {
   "cell_type": "markdown",
   "id": "8897ca62",
   "metadata": {
    "papermill": {
     "duration": 0.007628,
     "end_time": "2024-11-19T22:18:47.224870",
     "exception": false,
     "start_time": "2024-11-19T22:18:47.217242",
     "status": "completed"
    },
    "tags": []
   },
   "source": [
    "The `SPECTSystemMatrix` requires the `metadata` as well as transforms derived previously. In this case we use attenuation and PSF modeling"
   ]
  },
  {
   "cell_type": "code",
   "execution_count": 19,
   "id": "ccb9fdeb",
   "metadata": {
    "execution": {
     "iopub.execute_input": "2024-11-19T22:18:47.241013Z",
     "iopub.status.busy": "2024-11-19T22:18:47.240461Z",
     "iopub.status.idle": "2024-11-19T22:18:47.325185Z",
     "shell.execute_reply": "2024-11-19T22:18:47.324556Z"
    },
    "papermill": {
     "duration": 0.094727,
     "end_time": "2024-11-19T22:18:47.326971",
     "exception": false,
     "start_time": "2024-11-19T22:18:47.232244",
     "status": "completed"
    },
    "tags": []
   },
   "outputs": [],
   "source": [
    "system_matrix = SPECTSystemMatrix(\n",
    "        obj2obj_transforms = [att_transform,psf_transform],\n",
    "        proj2proj_transforms = [],\n",
    "        object_meta = object_meta,\n",
    "        proj_meta = proj_meta\n",
    "    )"
   ]
  },
  {
   "cell_type": "markdown",
   "id": "3735261c",
   "metadata": {
    "papermill": {
     "duration": 0.007375,
     "end_time": "2024-11-19T22:18:47.342497",
     "exception": false,
     "start_time": "2024-11-19T22:18:47.335122",
     "status": "completed"
    },
    "tags": []
   },
   "source": [
    "## 3 Likelihood / Reconstruction"
   ]
  },
  {
   "cell_type": "markdown",
   "id": "d445e4f6",
   "metadata": {
    "papermill": {
     "duration": 0.007557,
     "end_time": "2024-11-19T22:18:47.357408",
     "exception": false,
     "start_time": "2024-11-19T22:18:47.349851",
     "status": "completed"
    },
    "tags": []
   },
   "source": [
    "The likelihood function for SPECT/PET is the `PoissonLogLikelihood`:\n",
    "* It gives the relative probability of measuring `projections` given `system_matrix`, an additive term `scatter_estimate_TEW`, and an object estimate (not specified in creating an instance of the class)"
   ]
  },
  {
   "cell_type": "code",
   "execution_count": 20,
   "id": "bfa5f4f2",
   "metadata": {
    "execution": {
     "iopub.execute_input": "2024-11-19T22:18:47.373766Z",
     "iopub.status.busy": "2024-11-19T22:18:47.373516Z",
     "iopub.status.idle": "2024-11-19T22:18:47.376568Z",
     "shell.execute_reply": "2024-11-19T22:18:47.376013Z"
    },
    "papermill": {
     "duration": 0.012725,
     "end_time": "2024-11-19T22:18:47.377825",
     "exception": false,
     "start_time": "2024-11-19T22:18:47.365100",
     "status": "completed"
    },
    "tags": []
   },
   "outputs": [],
   "source": [
    "likelihood = PoissonLogLikelihood(\n",
    "    system_matrix = system_matrix,\n",
    "    projections = photopeak_realization,\n",
    "    additive_term = scatter_estimate_TEW\n",
    ")"
   ]
  },
  {
   "cell_type": "markdown",
   "id": "a2e0706b",
   "metadata": {
    "papermill": {
     "duration": 0.007352,
     "end_time": "2024-11-19T22:18:47.392446",
     "exception": false,
     "start_time": "2024-11-19T22:18:47.385094",
     "status": "completed"
    },
    "tags": []
   },
   "source": [
    "We can use the likelihood in image reconstruction, in this case we'll use the ordered subset expectation maximum (OSEM) algorithm. We initialize it as follows:"
   ]
  },
  {
   "cell_type": "code",
   "execution_count": 21,
   "id": "3f333e69",
   "metadata": {
    "execution": {
     "iopub.execute_input": "2024-11-19T22:18:47.408158Z",
     "iopub.status.busy": "2024-11-19T22:18:47.407956Z",
     "iopub.status.idle": "2024-11-19T22:18:47.420534Z",
     "shell.execute_reply": "2024-11-19T22:18:47.419808Z"
    },
    "papermill": {
     "duration": 0.022151,
     "end_time": "2024-11-19T22:18:47.421958",
     "exception": false,
     "start_time": "2024-11-19T22:18:47.399807",
     "status": "completed"
    },
    "tags": []
   },
   "outputs": [],
   "source": [
    "recon_algorithm = OSEM(likelihood)"
   ]
  },
  {
   "cell_type": "markdown",
   "id": "3ac3f1fd",
   "metadata": {
    "papermill": {
     "duration": 0.00725,
     "end_time": "2024-11-19T22:18:47.437025",
     "exception": false,
     "start_time": "2024-11-19T22:18:47.429775",
     "status": "completed"
    },
    "tags": []
   },
   "source": [
    "And now we can call it to reconstruct:"
   ]
  },
  {
   "cell_type": "code",
   "execution_count": 22,
   "id": "a49204a9",
   "metadata": {
    "execution": {
     "iopub.execute_input": "2024-11-19T22:18:47.453413Z",
     "iopub.status.busy": "2024-11-19T22:18:47.452815Z",
     "iopub.status.idle": "2024-11-19T22:18:53.486288Z",
     "shell.execute_reply": "2024-11-19T22:18:53.485192Z"
    },
    "papermill": {
     "duration": 6.043754,
     "end_time": "2024-11-19T22:18:53.488077",
     "exception": false,
     "start_time": "2024-11-19T22:18:47.444323",
     "status": "completed"
    },
    "tags": []
   },
   "outputs": [],
   "source": [
    "reconstructed_image = recon_algorithm(\n",
    "    n_iters=4,\n",
    "    n_subsets=8,\n",
    ")"
   ]
  },
  {
   "cell_type": "markdown",
   "id": "e5bba8a3",
   "metadata": {
    "papermill": {
     "duration": 0.007417,
     "end_time": "2024-11-19T22:18:53.503516",
     "exception": false,
     "start_time": "2024-11-19T22:18:53.496099",
     "status": "completed"
    },
    "tags": []
   },
   "source": [
    "And we can look at the central axial slice of the reconstructed image:"
   ]
  },
  {
   "cell_type": "code",
   "execution_count": 23,
   "id": "b9adac53",
   "metadata": {
    "execution": {
     "iopub.execute_input": "2024-11-19T22:18:53.520001Z",
     "iopub.status.busy": "2024-11-19T22:18:53.519364Z",
     "iopub.status.idle": "2024-11-19T22:18:53.570163Z",
     "shell.execute_reply": "2024-11-19T22:18:53.569580Z"
    },
    "papermill": {
     "duration": 0.060846,
     "end_time": "2024-11-19T22:18:53.571506",
     "exception": false,
     "start_time": "2024-11-19T22:18:53.510660",
     "status": "completed"
    },
    "tags": []
   },
   "outputs": [
    {
     "data": {
      "image/png": "[encoded data removed]",
      "text/plain": [
       "<Figure size 300x300 with 1 Axes>"
      ]
     },
     "metadata": {},
     "output_type": "display_data"
    }
   ],
   "source": [
    "plt.figure(figsize=(3,3))\n",
    "plt.imshow(reconstructed_image[:,:,64].cpu().T, cmap='magma', origin='lower', interpolation='Gaussian')\n",
    "plt.xlim(40,85)\n",
    "plt.ylim(40,85)\n",
    "plt.axis('off')\n",
    "plt.show()"
   ]
  }
 ],
 "metadata": {
  "kernelspec": {
   "display_name": "Python 3",
   "language": "python",
   "name": "python3"
  },
  "language_info": {
   "codemirror_mode": {
    "name": "ipython",
    "version": 3
   },
   "file_extension": ".py",
   "mimetype": "text/x-python",
   "name": "python",
   "nbconvert_exporter": "python",
   "pygments_lexer": "ipython3",
   "version": "3.11.10"
  },
  "papermill": {
   "default_parameters": {},
   "duration": 14.021338,
   "end_time": "2024-11-19T22:18:54.698682",
   "environment_variables": {},
   "exception": null,
   "input_path": "t_siminddata.ipynb",
   "output_path": "t_siminddata.ipynb",
   "parameters": {},
   "start_time": "2024-11-19T22:18:40.677344",
   "version": "2.6.0"
  }
 },
 "nbformat": 4,
 "nbformat_minor": 5
}