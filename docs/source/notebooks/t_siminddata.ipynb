{
 "cells": [
  {
   "cell_type": "markdown",
   "id": "dd79813f",
   "metadata": {
    "papermill": {
     "duration": 0.006599,
     "end_time": "2024-10-02T02:33:32.397209",
     "exception": false,
     "start_time": "2024-10-02T02:33:32.390610",
     "status": "completed"
    },
    "tags": []
   },
   "source": [
    "# SIMIND Introduction"
   ]
  },
  {
   "cell_type": "code",
   "execution_count": 1,
   "id": "c799a601",
   "metadata": {
    "execution": {
     "iopub.execute_input": "2024-10-02T02:33:32.409162Z",
     "iopub.status.busy": "2024-10-02T02:33:32.408410Z",
     "iopub.status.idle": "2024-10-02T02:33:36.337278Z",
     "shell.execute_reply": "2024-10-02T02:33:36.336534Z"
    },
    "papermill": {
     "duration": 3.937964,
     "end_time": "2024-10-02T02:33:36.340356",
     "exception": false,
     "start_time": "2024-10-02T02:33:32.402392",
     "status": "completed"
    },
    "tags": []
   },
   "outputs": [],
   "source": [
    "import inspect\n",
    "import matplotlib.pyplot as plt\n",
    "import torch\n",
    "from pytomography.io.SPECT import simind\n",
    "from pytomography.projectors.SPECT import SPECTSystemMatrix\n",
    "from pytomography.transforms.SPECT import SPECTAttenuationTransform, SPECTPSFTransform\n",
    "from pytomography.algorithms import OSEM\n",
    "from pytomography.likelihoods import PoissonLogLikelihood\n",
    "import os"
   ]
  },
  {
   "cell_type": "code",
   "execution_count": 2,
   "id": "b7ccacb1",
   "metadata": {
    "execution": {
     "iopub.execute_input": "2024-10-02T02:33:36.352294Z",
     "iopub.status.busy": "2024-10-02T02:33:36.351883Z",
     "iopub.status.idle": "2024-10-02T02:33:36.355484Z",
     "shell.execute_reply": "2024-10-02T02:33:36.354788Z"
    },
    "papermill": {
     "duration": 0.01094,
     "end_time": "2024-10-02T02:33:36.356777",
     "exception": false,
     "start_time": "2024-10-02T02:33:36.345837",
     "status": "completed"
    },
    "tags": []
   },
   "outputs": [],
   "source": [
    "# CHANGE THIS TO WHERE YOU DOWNLOADED THE TUTORIAL DATA\n",
    "PATH = '/disk1/pytomography_tutorial_data'\n",
    "data_path = os.path.join(PATH, 'simind_tutorial', 'lu177_SYME_jaszak')"
   ]
  },
  {
   "cell_type": "markdown",
   "id": "57ee85a7",
   "metadata": {
    "papermill": {
     "duration": 0.004772,
     "end_time": "2024-10-02T02:33:36.366323",
     "exception": false,
     "start_time": "2024-10-02T02:33:36.361551",
     "status": "completed"
    },
    "tags": []
   },
   "source": [
    "## 1. Opening Data"
   ]
  },
  {
   "cell_type": "markdown",
   "id": "a66388dc",
   "metadata": {
    "papermill": {
     "duration": 0.00512,
     "end_time": "2024-10-02T02:33:36.376183",
     "exception": false,
     "start_time": "2024-10-02T02:33:36.371063",
     "status": "completed"
    },
    "tags": []
   },
   "source": [
    "First we specify the save paths corresponding to the SIMIND header files for each of the three energy windows"
   ]
  },
  {
   "cell_type": "code",
   "execution_count": 3,
   "id": "26b1e869",
   "metadata": {
    "execution": {
     "iopub.execute_input": "2024-10-02T02:33:36.387308Z",
     "iopub.status.busy": "2024-10-02T02:33:36.386808Z",
     "iopub.status.idle": "2024-10-02T02:33:36.390507Z",
     "shell.execute_reply": "2024-10-02T02:33:36.389887Z"
    },
    "papermill": {
     "duration": 0.010639,
     "end_time": "2024-10-02T02:33:36.391866",
     "exception": false,
     "start_time": "2024-10-02T02:33:36.381227",
     "status": "completed"
    },
    "tags": []
   },
   "outputs": [],
   "source": [
    "photopeak_path = os.path.join(data_path,'tot_w4.h00')\n",
    "lower_path = os.path.join(data_path, 'tot_w5.h00')\n",
    "upper_path = os.path.join(data_path, 'tot_w6.h00')"
   ]
  },
  {
   "cell_type": "markdown",
   "id": "da5c549a",
   "metadata": {
    "papermill": {
     "duration": 0.004869,
     "end_time": "2024-10-02T02:33:36.401631",
     "exception": false,
     "start_time": "2024-10-02T02:33:36.396762",
     "status": "completed"
    },
    "tags": []
   },
   "source": [
    "PyTomography stores information such as voxel size, image dimensions, in metadata:\n",
    "* `ObjectMeta`: Voxel size, image dimensions\n",
    "* `ProjMeta` (for SPECT): detector angles, radial positions, detector pixel size/dimensions"
   ]
  },
  {
   "cell_type": "code",
   "execution_count": 4,
   "id": "b5f715fa",
   "metadata": {
    "execution": {
     "iopub.execute_input": "2024-10-02T02:33:36.412419Z",
     "iopub.status.busy": "2024-10-02T02:33:36.411879Z",
     "iopub.status.idle": "2024-10-02T02:33:36.617122Z",
     "shell.execute_reply": "2024-10-02T02:33:36.616354Z"
    },
    "papermill": {
     "duration": 0.21278,
     "end_time": "2024-10-02T02:33:36.619098",
     "exception": false,
     "start_time": "2024-10-02T02:33:36.406318",
     "status": "completed"
    },
    "tags": []
   },
   "outputs": [],
   "source": [
    "object_meta, proj_meta = simind.get_metadata(photopeak_path)"
   ]
  },
  {
   "cell_type": "code",
   "execution_count": 5,
   "id": "7e1a770e",
   "metadata": {
    "execution": {
     "iopub.execute_input": "2024-10-02T02:33:36.630786Z",
     "iopub.status.busy": "2024-10-02T02:33:36.630223Z",
     "iopub.status.idle": "2024-10-02T02:33:36.636804Z",
     "shell.execute_reply": "2024-10-02T02:33:36.636244Z"
    },
    "papermill": {
     "duration": 0.013825,
     "end_time": "2024-10-02T02:33:36.638456",
     "exception": false,
     "start_time": "2024-10-02T02:33:36.624631",
     "status": "completed"
    },
    "tags": []
   },
   "outputs": [
    {
     "data": {
      "text/plain": [
       "dr = (0.48000001907348633, 0.48000001907348633, 0.48000001907348633)\n",
       "dx = 0.48000001907348633\n",
       "dy = 0.48000001907348633\n",
       "dz = 0.48000001907348633\n",
       "pad_size = 27\n",
       "padded_shape = (182, 182, 128)\n",
       "recon_method = None\n",
       "shape = (128, 128, 128)\n",
       "units = counts"
      ]
     },
     "execution_count": 5,
     "metadata": {},
     "output_type": "execute_result"
    }
   ],
   "source": [
    "object_meta"
   ]
  },
  {
   "cell_type": "code",
   "execution_count": 6,
   "id": "ca64ab21",
   "metadata": {
    "execution": {
     "iopub.execute_input": "2024-10-02T02:33:36.649590Z",
     "iopub.status.busy": "2024-10-02T02:33:36.649348Z",
     "iopub.status.idle": "2024-10-02T02:33:36.772894Z",
     "shell.execute_reply": "2024-10-02T02:33:36.772193Z"
    },
    "papermill": {
     "duration": 0.130425,
     "end_time": "2024-10-02T02:33:36.774291",
     "exception": false,
     "start_time": "2024-10-02T02:33:36.643866",
     "status": "completed"
    },
    "tags": []
   },
   "outputs": [
    {
     "data": {
      "text/plain": [
       "angles = tensor([  0.0000,   3.7500,   7.5000,  11.2500,  15.0000,  18.7500,  22.5000,\n",
       "         26.2500,  30.0000,  33.7500,  37.5000,  41.2500,  45.0000,  48.7500,\n",
       "         52.5000,  56.2500,  60.0000,  63.7500,  67.5000,  71.2500,  75.0000,\n",
       "         78.7500,  82.5000,  86.2500,  90.0000,  93.7500,  97.5000, 101.2500,\n",
       "        105.0000, 108.7500, 112.5000, 116.2500, 120.0000, 123.7500, 127.5000,\n",
       "        131.2500, 135.0000, 138.7500, 142.5000, 146.2500, 150.0000, 153.7500,\n",
       "        157.5000, 161.2500, 165.0000, 168.7500, 172.5000, 176.2500, 180.0000,\n",
       "        183.7500, 187.5000, 191.2500, 195.0000, 198.7500, 202.5000, 206.2500,\n",
       "        210.0000, 213.7500, 217.5000, 221.2500, 225.0000, 228.7500, 232.5000,\n",
       "        236.2500, 240.0000, 243.7500, 247.5000, 251.2500, 255.0000, 258.7500,\n",
       "        262.5000, 266.2500, 270.0000, 273.7500, 277.5000, 281.2500, 285.0000,\n",
       "        288.7500, 292.5000, 296.2500, 300.0000, 303.7500, 307.5000, 311.2500,\n",
       "        315.0000, 318.7500, 322.5000, 326.2500, 330.0000, 333.7500, 337.5000,\n",
       "        341.2500, 345.0000, 348.7500, 352.5000, 356.2500], device='cuda:0')\n",
       "dr = (0.48000001907348633, 0.48000001907348633)\n",
       "num_projections = 96\n",
       "pad_size = 27\n",
       "padded_shape = (96, 182, 128)\n",
       "radii = [15. 15. 15. 15. 15. 15. 15. 15. 15. 15. 15. 15. 15. 15. 15. 15. 15. 15.\n",
       " 15. 15. 15. 15. 15. 15. 15. 15. 15. 15. 15. 15. 15. 15. 15. 15. 15. 15.\n",
       " 15. 15. 15. 15. 15. 15. 15. 15. 15. 15. 15. 15. 15. 15. 15. 15. 15. 15.\n",
       " 15. 15. 15. 15. 15. 15. 15. 15. 15. 15. 15. 15. 15. 15. 15. 15. 15. 15.\n",
       " 15. 15. 15. 15. 15. 15. 15. 15. 15. 15. 15. 15. 15. 15. 15. 15. 15. 15.\n",
       " 15. 15. 15. 15. 15. 15.]\n",
       "shape = (96, 128, 128)"
      ]
     },
     "execution_count": 6,
     "metadata": {},
     "output_type": "execute_result"
    }
   ],
   "source": [
    "proj_meta"
   ]
  },
  {
   "cell_type": "markdown",
   "id": "b805c640",
   "metadata": {
    "papermill": {
     "duration": 0.00544,
     "end_time": "2024-10-02T02:33:36.785891",
     "exception": false,
     "start_time": "2024-10-02T02:33:36.780451",
     "status": "completed"
    },
    "tags": []
   },
   "source": [
    "The actual projection data itself is loaded as follows:"
   ]
  },
  {
   "cell_type": "code",
   "execution_count": 7,
   "id": "346f8d22",
   "metadata": {
    "execution": {
     "iopub.execute_input": "2024-10-02T02:33:36.797865Z",
     "iopub.status.busy": "2024-10-02T02:33:36.797258Z",
     "iopub.status.idle": "2024-10-02T02:33:36.838690Z",
     "shell.execute_reply": "2024-10-02T02:33:36.838049Z"
    },
    "papermill": {
     "duration": 0.049243,
     "end_time": "2024-10-02T02:33:36.840133",
     "exception": false,
     "start_time": "2024-10-02T02:33:36.790890",
     "status": "completed"
    },
    "tags": []
   },
   "outputs": [
    {
     "data": {
      "text/plain": [
       "torch.Size([96, 128, 128])"
      ]
     },
     "execution_count": 7,
     "metadata": {},
     "output_type": "execute_result"
    }
   ],
   "source": [
    "photopeak = simind.get_projections(photopeak_path)\n",
    "photopeak.shape"
   ]
  },
  {
   "cell_type": "markdown",
   "id": "99203515",
   "metadata": {
    "papermill": {
     "duration": 0.004999,
     "end_time": "2024-10-02T02:33:36.850804",
     "exception": false,
     "start_time": "2024-10-02T02:33:36.845805",
     "status": "completed"
    },
    "tags": []
   },
   "source": [
    "This corresponds to 96 angles where each projection is 256x256. We can plot these projections as follows:"
   ]
  },
  {
   "cell_type": "code",
   "execution_count": 8,
   "id": "e1db02d7",
   "metadata": {
    "execution": {
     "iopub.execute_input": "2024-10-02T02:33:36.862912Z",
     "iopub.status.busy": "2024-10-02T02:33:36.862282Z",
     "iopub.status.idle": "2024-10-02T02:33:36.995588Z",
     "shell.execute_reply": "2024-10-02T02:33:36.994998Z"
    },
    "papermill": {
     "duration": 0.140701,
     "end_time": "2024-10-02T02:33:36.996854",
     "exception": false,
     "start_time": "2024-10-02T02:33:36.856153",
     "status": "completed"
    },
    "tags": []
   },
   "outputs": [
    {
     "data": {
      "image/png": "[encoded data removed]",
      "text/plain": [
       "<Figure size 800x240 with 4 Axes>"
      ]
     },
     "metadata": {},
     "output_type": "display_data"
    }
   ],
   "source": [
    "fig, ax = plt.subplots(1,4,figsize=(8,2.4), gridspec_kw={'wspace':0.0})\n",
    "for i in range(4):\n",
    "    ax[i].imshow(photopeak[10*i].cpu().T, cmap='magma')\n",
    "    ax[i].axis('off')\n",
    "    ax[i].text(0.03, 0.97, f'Angle: {10*proj_meta.angles[i]}dg', ha='left', va='top', color='white', transform=ax[i].transAxes, fontsize=12)"
   ]
  },
  {
   "cell_type": "markdown",
   "id": "e0926cd0",
   "metadata": {
    "papermill": {
     "duration": 0.006103,
     "end_time": "2024-10-02T02:33:37.009411",
     "exception": false,
     "start_time": "2024-10-02T02:33:37.003308",
     "status": "completed"
    },
    "tags": []
   },
   "source": [
    "Raw SIMIND data has units of Counts / Second / MBq and represents the *expectation value* of the measured data in each detector bin. We can generate clinically realistic data by \n",
    "1. scaling by time and activity (converting to units of counts)\n",
    "2. obtaining a Poisson realization"
   ]
  },
  {
   "cell_type": "code",
   "execution_count": 9,
   "id": "8066a946",
   "metadata": {
    "execution": {
     "iopub.execute_input": "2024-10-02T02:33:37.024101Z",
     "iopub.status.busy": "2024-10-02T02:33:37.023704Z",
     "iopub.status.idle": "2024-10-02T02:33:37.044773Z",
     "shell.execute_reply": "2024-10-02T02:33:37.044021Z"
    },
    "papermill": {
     "duration": 0.031228,
     "end_time": "2024-10-02T02:33:37.046576",
     "exception": false,
     "start_time": "2024-10-02T02:33:37.015348",
     "status": "completed"
    },
    "tags": []
   },
   "outputs": [],
   "source": [
    "activity = 1000 # MBq \n",
    "time_per_proj = 15 # s\n",
    "photopeak_realization = torch.poisson(photopeak * activity * time_per_proj)"
   ]
  },
  {
   "cell_type": "markdown",
   "id": "7f287cfd",
   "metadata": {
    "papermill": {
     "duration": 0.005534,
     "end_time": "2024-10-02T02:33:37.060318",
     "exception": false,
     "start_time": "2024-10-02T02:33:37.054784",
     "status": "completed"
    },
    "tags": []
   },
   "source": [
    "The actual data is noisier:"
   ]
  },
  {
   "cell_type": "code",
   "execution_count": 10,
   "id": "5933329f",
   "metadata": {
    "execution": {
     "iopub.execute_input": "2024-10-02T02:33:37.073705Z",
     "iopub.status.busy": "2024-10-02T02:33:37.073288Z",
     "iopub.status.idle": "2024-10-02T02:33:37.194917Z",
     "shell.execute_reply": "2024-10-02T02:33:37.194195Z"
    },
    "papermill": {
     "duration": 0.130208,
     "end_time": "2024-10-02T02:33:37.196359",
     "exception": false,
     "start_time": "2024-10-02T02:33:37.066151",
     "status": "completed"
    },
    "tags": []
   },
   "outputs": [
    {
     "data": {
      "image/png": "[encoded data removed]",
      "text/plain": [
       "<Figure size 800x240 with 4 Axes>"
      ]
     },
     "metadata": {},
     "output_type": "display_data"
    }
   ],
   "source": [
    "fig, ax = plt.subplots(1,4,figsize=(8,2.4), gridspec_kw={'wspace':0.0})\n",
    "for i in range(4):\n",
    "    ax[i].imshow(photopeak_realization[10*i].cpu().T, cmap='magma')\n",
    "    ax[i].axis('off')\n",
    "    ax[i].text(0.03, 0.97, f'Angle {10*i}', ha='left', va='top', color='white', transform=ax[i].transAxes, fontsize=12)"
   ]
  },
  {
   "cell_type": "markdown",
   "id": "df67969a",
   "metadata": {
    "papermill": {
     "duration": 0.007309,
     "end_time": "2024-10-02T02:33:37.210815",
     "exception": false,
     "start_time": "2024-10-02T02:33:37.203506",
     "status": "completed"
    },
    "tags": []
   },
   "source": [
    "We can do similar things for the adjacent scatter windows:"
   ]
  },
  {
   "cell_type": "code",
   "execution_count": 11,
   "id": "68197b7c",
   "metadata": {
    "execution": {
     "iopub.execute_input": "2024-10-02T02:33:37.224387Z",
     "iopub.status.busy": "2024-10-02T02:33:37.224160Z",
     "iopub.status.idle": "2024-10-02T02:33:37.277872Z",
     "shell.execute_reply": "2024-10-02T02:33:37.277145Z"
    },
    "papermill": {
     "duration": 0.062746,
     "end_time": "2024-10-02T02:33:37.279775",
     "exception": false,
     "start_time": "2024-10-02T02:33:37.217029",
     "status": "completed"
    },
    "tags": []
   },
   "outputs": [],
   "source": [
    "lower = simind.get_projections(lower_path)\n",
    "upper = simind.get_projections(upper_path)\n",
    "lower_realization = torch.poisson(lower * activity * time_per_proj)\n",
    "upper_realization = torch.poisson(upper * activity * time_per_proj)"
   ]
  },
  {
   "cell_type": "markdown",
   "id": "d0a4e66f",
   "metadata": {
    "papermill": {
     "duration": 0.006053,
     "end_time": "2024-10-02T02:33:37.292769",
     "exception": false,
     "start_time": "2024-10-02T02:33:37.286716",
     "status": "completed"
    },
    "tags": []
   },
   "source": [
    "These adjacent energy windows can be used to get an estimate for the scatter in the photopeak window via the triple energy window (TEW) technique:"
   ]
  },
  {
   "cell_type": "code",
   "execution_count": 12,
   "id": "c4da3070",
   "metadata": {
    "execution": {
     "iopub.execute_input": "2024-10-02T02:33:37.306640Z",
     "iopub.status.busy": "2024-10-02T02:33:37.306281Z",
     "iopub.status.idle": "2024-10-02T02:33:37.322030Z",
     "shell.execute_reply": "2024-10-02T02:33:37.321462Z"
    },
    "papermill": {
     "duration": 0.025186,
     "end_time": "2024-10-02T02:33:37.324046",
     "exception": false,
     "start_time": "2024-10-02T02:33:37.298860",
     "status": "completed"
    },
    "tags": []
   },
   "outputs": [],
   "source": [
    "ww_peak, ww_lower, ww_upper = [simind.get_energy_window_width(path) for path in [photopeak_path, lower_path, upper_path]]\n",
    "scatter_estimate_TEW = simind.compute_EW_scatter(lower_realization, upper_realization , ww_lower, ww_upper, ww_peak)"
   ]
  },
  {
   "cell_type": "code",
   "execution_count": 13,
   "id": "63bbfc3b",
   "metadata": {
    "execution": {
     "iopub.execute_input": "2024-10-02T02:33:37.338529Z",
     "iopub.status.busy": "2024-10-02T02:33:37.338083Z",
     "iopub.status.idle": "2024-10-02T02:33:37.457337Z",
     "shell.execute_reply": "2024-10-02T02:33:37.456615Z"
    },
    "papermill": {
     "duration": 0.127678,
     "end_time": "2024-10-02T02:33:37.458678",
     "exception": false,
     "start_time": "2024-10-02T02:33:37.331000",
     "status": "completed"
    },
    "tags": []
   },
   "outputs": [
    {
     "data": {
      "image/png": "[encoded data removed]",
      "text/plain": [
       "<Figure size 800x240 with 4 Axes>"
      ]
     },
     "metadata": {},
     "output_type": "display_data"
    }
   ],
   "source": [
    "fig, ax = plt.subplots(1,4,figsize=(8,2.4), gridspec_kw={'wspace':0.0})\n",
    "for i in range(4):\n",
    "    ax[i].imshow(scatter_estimate_TEW[10*i].cpu().T, cmap='magma')\n",
    "    ax[i].axis('off')\n",
    "    ax[i].text(0.03, 0.97, f'Angle {10*i}', ha='left', va='top', color='white', transform=ax[i].transAxes, fontsize=12)"
   ]
  },
  {
   "cell_type": "markdown",
   "id": "28cf5179",
   "metadata": {
    "papermill": {
     "duration": 0.007762,
     "end_time": "2024-10-02T02:33:37.473552",
     "exception": false,
     "start_time": "2024-10-02T02:33:37.465790",
     "status": "completed"
    },
    "tags": []
   },
   "source": [
    "## 2. Creating the System Matrix"
   ]
  },
  {
   "cell_type": "markdown",
   "id": "c1195846",
   "metadata": {
    "papermill": {
     "duration": 0.006711,
     "end_time": "2024-10-02T02:33:37.487350",
     "exception": false,
     "start_time": "2024-10-02T02:33:37.480639",
     "status": "completed"
    },
    "tags": []
   },
   "source": [
    "The SPECT system matrix depends on modeling (i) attenuation and (ii) collimator detector response (or point spread function)"
   ]
  },
  {
   "cell_type": "markdown",
   "id": "56cc57de",
   "metadata": {
    "papermill": {
     "duration": 0.006422,
     "end_time": "2024-10-02T02:33:37.500648",
     "exception": false,
     "start_time": "2024-10-02T02:33:37.494226",
     "status": "completed"
    },
    "tags": []
   },
   "source": [
    "### 2.1 Attenuation Modeling"
   ]
  },
  {
   "cell_type": "markdown",
   "id": "dbf60f8d",
   "metadata": {
    "papermill": {
     "duration": 0.008174,
     "end_time": "2024-10-02T02:33:37.515592",
     "exception": false,
     "start_time": "2024-10-02T02:33:37.507418",
     "status": "completed"
    },
    "tags": []
   },
   "source": [
    "For attenuation modeling we need the corresponding attenuation map. The SIMIND generated attenuation map can be loaded as follows:"
   ]
  },
  {
   "cell_type": "code",
   "execution_count": 14,
   "id": "feac3eba",
   "metadata": {
    "execution": {
     "iopub.execute_input": "2024-10-02T02:33:37.534286Z",
     "iopub.status.busy": "2024-10-02T02:33:37.533877Z",
     "iopub.status.idle": "2024-10-02T02:33:37.571386Z",
     "shell.execute_reply": "2024-10-02T02:33:37.570681Z"
    },
    "papermill": {
     "duration": 0.048062,
     "end_time": "2024-10-02T02:33:37.573254",
     "exception": false,
     "start_time": "2024-10-02T02:33:37.525192",
     "status": "completed"
    },
    "tags": []
   },
   "outputs": [],
   "source": [
    "path_amap = os.path.join(data_path, 'amap.hct')\n",
    "amap = simind.get_attenuation_map(path_amap)"
   ]
  },
  {
   "cell_type": "markdown",
   "id": "faa2a995",
   "metadata": {
    "papermill": {
     "duration": 0.006717,
     "end_time": "2024-10-02T02:33:37.587167",
     "exception": false,
     "start_time": "2024-10-02T02:33:37.580450",
     "status": "completed"
    },
    "tags": []
   },
   "source": [
    "We can plot a 3D axial slice of this phantom (cylinder) as follows:"
   ]
  },
  {
   "cell_type": "code",
   "execution_count": 15,
   "id": "350ae47e",
   "metadata": {
    "execution": {
     "iopub.execute_input": "2024-10-02T02:33:37.601874Z",
     "iopub.status.busy": "2024-10-02T02:33:37.601534Z",
     "iopub.status.idle": "2024-10-02T02:33:37.716726Z",
     "shell.execute_reply": "2024-10-02T02:33:37.716013Z"
    },
    "papermill": {
     "duration": 0.124422,
     "end_time": "2024-10-02T02:33:37.718301",
     "exception": false,
     "start_time": "2024-10-02T02:33:37.593879",
     "status": "completed"
    },
    "tags": []
   },
   "outputs": [
    {
     "data": {
      "text/plain": [
       "<matplotlib.colorbar.Colorbar at 0x7f2c9a259c90>"
      ]
     },
     "execution_count": 15,
     "metadata": {},
     "output_type": "execute_result"
    },
    {
     "data": {
      "image/png": "[encoded data removed]",
      "text/plain": [
       "<Figure size 300x300 with 2 Axes>"
      ]
     },
     "metadata": {},
     "output_type": "display_data"
    }
   ],
   "source": [
    "plt.figure(figsize=(3,3))\n",
    "plt.imshow(amap[:,:,64].cpu().T, cmap='Greys_r')\n",
    "plt.axis('off')\n",
    "plt.colorbar(label='1 / cm')"
   ]
  },
  {
   "cell_type": "markdown",
   "id": "d1ba3df5",
   "metadata": {
    "papermill": {
     "duration": 0.009877,
     "end_time": "2024-10-02T02:33:37.737164",
     "exception": false,
     "start_time": "2024-10-02T02:33:37.727287",
     "status": "completed"
    },
    "tags": []
   },
   "source": [
    "From this attenuation map we build a `SPECTAttenuationTransform`, which will eventually be used in creating the system matrix"
   ]
  },
  {
   "cell_type": "code",
   "execution_count": 16,
   "id": "775db2ff",
   "metadata": {
    "execution": {
     "iopub.execute_input": "2024-10-02T02:33:37.755153Z",
     "iopub.status.busy": "2024-10-02T02:33:37.754862Z",
     "iopub.status.idle": "2024-10-02T02:33:37.758595Z",
     "shell.execute_reply": "2024-10-02T02:33:37.757735Z"
    },
    "papermill": {
     "duration": 0.014709,
     "end_time": "2024-10-02T02:33:37.759938",
     "exception": false,
     "start_time": "2024-10-02T02:33:37.745229",
     "status": "completed"
    },
    "tags": []
   },
   "outputs": [],
   "source": [
    "att_transform = SPECTAttenuationTransform(amap)"
   ]
  },
  {
   "cell_type": "markdown",
   "id": "34214677",
   "metadata": {
    "papermill": {
     "duration": 0.007101,
     "end_time": "2024-10-02T02:33:37.775790",
     "exception": false,
     "start_time": "2024-10-02T02:33:37.768689",
     "status": "completed"
    },
    "tags": []
   },
   "source": [
    "### 2.2 Collimator Detector Response (or Point Spread Function) Modeling"
   ]
  },
  {
   "cell_type": "markdown",
   "id": "337dc90f",
   "metadata": {
    "papermill": {
     "duration": 0.007316,
     "end_time": "2024-10-02T02:33:37.790488",
     "exception": false,
     "start_time": "2024-10-02T02:33:37.783172",
     "status": "completed"
    },
    "tags": []
   },
   "source": [
    "A perfect SPECT detector would only allow photons travelling perpendicular to the collimator holes to be detected: in practice this is not the case. The angle at which photons can enter depends on the collimator/scintillator parameters. We can get the metadata from the header as follows:\n",
    "\n",
    "* The information gives the function/parameters for the point spread function, which depends on the distance between the source/detector $r$"
   ]
  },
  {
   "cell_type": "code",
   "execution_count": 17,
   "id": "ace4d645",
   "metadata": {
    "execution": {
     "iopub.execute_input": "2024-10-02T02:33:37.807636Z",
     "iopub.status.busy": "2024-10-02T02:33:37.807368Z",
     "iopub.status.idle": "2024-10-02T02:33:37.819241Z",
     "shell.execute_reply": "2024-10-02T02:33:37.818664Z"
    },
    "papermill": {
     "duration": 0.022282,
     "end_time": "2024-10-02T02:33:37.820625",
     "exception": false,
     "start_time": "2024-10-02T02:33:37.798343",
     "status": "completed"
    },
    "tags": []
   },
   "outputs": [
    {
     "name": "stdout",
     "output_type": "stream",
     "text": [
      "kernel_dimensions = 2D\n",
      "min_sigmas = 3\n",
      "sigma_fit_params = [0.03161992025662508, 0.12485030454109175, 0.12542298841500965]\n",
      "\n",
      "    sigma_fit = lambda r, a, b, c: np.sqrt((a*r+b)**2+c**2)\n",
      "\n"
     ]
    }
   ],
   "source": [
    "psf_meta = simind.get_psfmeta_from_header(photopeak_path)\n",
    "# Below is optional to print details about psf_meta\n",
    "sigma_fit_func_code = inspect.getsource(psf_meta.sigma_fit)\n",
    "print(psf_meta)\n",
    "print(sigma_fit_func_code)"
   ]
  },
  {
   "cell_type": "markdown",
   "id": "107caafd",
   "metadata": {
    "papermill": {
     "duration": 0.007949,
     "end_time": "2024-10-02T02:33:37.912324",
     "exception": false,
     "start_time": "2024-10-02T02:33:37.904375",
     "status": "completed"
    },
    "tags": []
   },
   "source": [
    "As before, we create a `Transform` with this metadata, which we will soon provide to the system matrix"
   ]
  },
  {
   "cell_type": "code",
   "execution_count": 18,
   "id": "c222ce09",
   "metadata": {
    "execution": {
     "iopub.execute_input": "2024-10-02T02:33:37.929736Z",
     "iopub.status.busy": "2024-10-02T02:33:37.928981Z",
     "iopub.status.idle": "2024-10-02T02:33:37.932840Z",
     "shell.execute_reply": "2024-10-02T02:33:37.932125Z"
    },
    "papermill": {
     "duration": 0.014311,
     "end_time": "2024-10-02T02:33:37.934260",
     "exception": false,
     "start_time": "2024-10-02T02:33:37.919949",
     "status": "completed"
    },
    "tags": []
   },
   "outputs": [],
   "source": [
    "psf_transform = SPECTPSFTransform(psf_meta)"
   ]
  },
  {
   "cell_type": "markdown",
   "id": "7a0baa22",
   "metadata": {
    "papermill": {
     "duration": 0.007608,
     "end_time": "2024-10-02T02:33:37.949386",
     "exception": false,
     "start_time": "2024-10-02T02:33:37.941778",
     "status": "completed"
    },
    "tags": []
   },
   "source": [
    "### 2.3 Creating the system matrix"
   ]
  },
  {
   "cell_type": "markdown",
   "id": "8897ca62",
   "metadata": {
    "papermill": {
     "duration": 0.007368,
     "end_time": "2024-10-02T02:33:37.966227",
     "exception": false,
     "start_time": "2024-10-02T02:33:37.958859",
     "status": "completed"
    },
    "tags": []
   },
   "source": [
    "The `SPECTSystemMatrix` requires the `metadata` as well as transforms derived previously. In this case we use attenuation and PSF modeling"
   ]
  },
  {
   "cell_type": "code",
   "execution_count": 19,
   "id": "ccb9fdeb",
   "metadata": {
    "execution": {
     "iopub.execute_input": "2024-10-02T02:33:37.985827Z",
     "iopub.status.busy": "2024-10-02T02:33:37.985550Z",
     "iopub.status.idle": "2024-10-02T02:33:38.079722Z",
     "shell.execute_reply": "2024-10-02T02:33:38.079016Z"
    },
    "papermill": {
     "duration": 0.105739,
     "end_time": "2024-10-02T02:33:38.081582",
     "exception": false,
     "start_time": "2024-10-02T02:33:37.975843",
     "status": "completed"
    },
    "tags": []
   },
   "outputs": [],
   "source": [
    "system_matrix = SPECTSystemMatrix(\n",
    "        obj2obj_transforms = [att_transform,psf_transform],\n",
    "        proj2proj_transforms = [],\n",
    "        object_meta = object_meta,\n",
    "        proj_meta = proj_meta\n",
    "    )"
   ]
  },
  {
   "cell_type": "markdown",
   "id": "3735261c",
   "metadata": {
    "papermill": {
     "duration": 0.007214,
     "end_time": "2024-10-02T02:33:38.097106",
     "exception": false,
     "start_time": "2024-10-02T02:33:38.089892",
     "status": "completed"
    },
    "tags": []
   },
   "source": [
    "## 3 Likelihood / Reconstruction"
   ]
  },
  {
   "cell_type": "markdown",
   "id": "d445e4f6",
   "metadata": {
    "papermill": {
     "duration": 0.007538,
     "end_time": "2024-10-02T02:33:38.112268",
     "exception": false,
     "start_time": "2024-10-02T02:33:38.104730",
     "status": "completed"
    },
    "tags": []
   },
   "source": [
    "The likelihood function for SPECT/PET is the `PoissonLogLikelihood`:\n",
    "* It gives the relative probability of measuring `projections` given `system_matrix`, an additive term `scatter_estimate_TEW`, and an object estimate (not specified in creating an instance of the class)"
   ]
  },
  {
   "cell_type": "code",
   "execution_count": 20,
   "id": "bfa5f4f2",
   "metadata": {
    "execution": {
     "iopub.execute_input": "2024-10-02T02:33:38.128168Z",
     "iopub.status.busy": "2024-10-02T02:33:38.127792Z",
     "iopub.status.idle": "2024-10-02T02:33:38.132155Z",
     "shell.execute_reply": "2024-10-02T02:33:38.130590Z"
    },
    "papermill": {
     "duration": 0.01374,
     "end_time": "2024-10-02T02:33:38.133439",
     "exception": false,
     "start_time": "2024-10-02T02:33:38.119699",
     "status": "completed"
    },
    "tags": []
   },
   "outputs": [],
   "source": [
    "likelihood = PoissonLogLikelihood(\n",
    "    system_matrix = system_matrix,\n",
    "    projections = photopeak_realization,\n",
    "    additive_term = scatter_estimate_TEW\n",
    ")"
   ]
  },
  {
   "cell_type": "markdown",
   "id": "a2e0706b",
   "metadata": {
    "papermill": {
     "duration": 0.007633,
     "end_time": "2024-10-02T02:33:38.149771",
     "exception": false,
     "start_time": "2024-10-02T02:33:38.142138",
     "status": "completed"
    },
    "tags": []
   },
   "source": [
    "We can use the likelihood in image reconstruction, in this case we'll use the ordered subset expectation maximum (OSEM) algorithm. We initialize it as follows:"
   ]
  },
  {
   "cell_type": "code",
   "execution_count": 21,
   "id": "3f333e69",
   "metadata": {
    "execution": {
     "iopub.execute_input": "2024-10-02T02:33:38.166528Z",
     "iopub.status.busy": "2024-10-02T02:33:38.166310Z",
     "iopub.status.idle": "2024-10-02T02:33:38.189441Z",
     "shell.execute_reply": "2024-10-02T02:33:38.188794Z"
    },
    "papermill": {
     "duration": 0.033959,
     "end_time": "2024-10-02T02:33:38.191953",
     "exception": false,
     "start_time": "2024-10-02T02:33:38.157994",
     "status": "completed"
    },
    "tags": []
   },
   "outputs": [],
   "source": [
    "recon_algorithm = OSEM(likelihood)"
   ]
  },
  {
   "cell_type": "markdown",
   "id": "3ac3f1fd",
   "metadata": {
    "papermill": {
     "duration": 0.008352,
     "end_time": "2024-10-02T02:33:38.209143",
     "exception": false,
     "start_time": "2024-10-02T02:33:38.200791",
     "status": "completed"
    },
    "tags": []
   },
   "source": [
    "And now we can call it to reconstruct:"
   ]
  },
  {
   "cell_type": "code",
   "execution_count": 22,
   "id": "a49204a9",
   "metadata": {
    "execution": {
     "iopub.execute_input": "2024-10-02T02:33:38.227328Z",
     "iopub.status.busy": "2024-10-02T02:33:38.226698Z",
     "iopub.status.idle": "2024-10-02T02:33:45.902030Z",
     "shell.execute_reply": "2024-10-02T02:33:45.900966Z"
    },
    "papermill": {
     "duration": 7.685949,
     "end_time": "2024-10-02T02:33:45.904043",
     "exception": false,
     "start_time": "2024-10-02T02:33:38.218094",
     "status": "completed"
    },
    "tags": []
   },
   "outputs": [],
   "source": [
    "reconstructed_image = recon_algorithm(\n",
    "    n_iters=4,\n",
    "    n_subsets=8,\n",
    ")"
   ]
  },
  {
   "cell_type": "markdown",
   "id": "e5bba8a3",
   "metadata": {
    "papermill": {
     "duration": 0.007314,
     "end_time": "2024-10-02T02:33:45.919303",
     "exception": false,
     "start_time": "2024-10-02T02:33:45.911989",
     "status": "completed"
    },
    "tags": []
   },
   "source": [
    "And we can look at the central axial slice of the reconstructed image:"
   ]
  },
  {
   "cell_type": "code",
   "execution_count": 23,
   "id": "b9adac53",
   "metadata": {
    "execution": {
     "iopub.execute_input": "2024-10-02T02:33:45.935654Z",
     "iopub.status.busy": "2024-10-02T02:33:45.935204Z",
     "iopub.status.idle": "2024-10-02T02:33:45.989676Z",
     "shell.execute_reply": "2024-10-02T02:33:45.988977Z"
    },
    "papermill": {
     "duration": 0.064518,
     "end_time": "2024-10-02T02:33:45.991161",
     "exception": false,
     "start_time": "2024-10-02T02:33:45.926643",
     "status": "completed"
    },
    "tags": []
   },
   "outputs": [
    {
     "data": {
      "image/png": "[encoded data removed]",
      "text/plain": [
       "<Figure size 300x300 with 1 Axes>"
      ]
     },
     "metadata": {},
     "output_type": "display_data"
    }
   ],
   "source": [
    "plt.figure(figsize=(3,3))\n",
    "plt.imshow(reconstructed_image[:,:,64].cpu().T, cmap='magma', origin='lower', interpolation='Gaussian')\n",
    "plt.xlim(40,85)\n",
    "plt.ylim(40,85)\n",
    "plt.axis('off')\n",
    "plt.show()"
   ]
  }
 ],
 "metadata": {
  "kernelspec": {
   "display_name": "Python 3",
   "language": "python",
   "name": "python3"
  },
  "language_info": {
   "codemirror_mode": {
    "name": "ipython",
    "version": 3
   },
   "file_extension": ".py",
   "mimetype": "text/x-python",
   "name": "python",
   "nbconvert_exporter": "python",
   "pygments_lexer": "ipython3",
   "version": "3.11.10"
  },
  "papermill": {
   "default_parameters": {},
   "duration": 15.666196,
   "end_time": "2024-10-02T02:33:47.119231",
   "environment_variables": {},
   "exception": null,
   "input_path": "t_siminddata.ipynb",
   "output_path": "t_siminddata.ipynb",
   "parameters": {},
   "start_time": "2024-10-02T02:33:31.453035",
   "version": "2.6.0"
  }
 },
 "nbformat": 4,
 "nbformat_minor": 5
}
