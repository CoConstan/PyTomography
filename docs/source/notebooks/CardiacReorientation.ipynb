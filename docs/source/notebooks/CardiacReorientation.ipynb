{
 "cells": [
  {
   "cell_type": "markdown",
   "metadata": {},
   "source": [
    "#### Introduction\n",
    "\n",
    "This tutorial explains how to use PyTomography to reorient reconstructed objects, especially cardiac images. In this notebook, we will work with cardiac SPECT images. The methods used in the related functions are primarily inspired by Germano et al. [1]. \n",
    "\n",
    "In the first section we will perform the `Reconstruction` and in the second part `Reorientation` will be done.\n",
    "\n",
    "#### References\n",
    "\n",
    "1. G Germano et al. \"Automatic reorientation of three-dimensional, transaxial myocardial perfusion SPECT images.\" J Nucl Med. 1995 Jun;36(6):1107-14. PMID: 7769436.\n"
   ]
  },
  {
   "cell_type": "markdown",
   "metadata": {},
   "source": [
    "### Reconstruction"
   ]
  },
  {
   "cell_type": "markdown",
   "metadata": {},
   "source": [
    "Let's import the requiret libraries."
   ]
  },
  {
   "cell_type": "code",
   "execution_count": null,
   "metadata": {},
   "outputs": [],
   "source": [
    "import os\n",
    "import numpy as np\n",
    "import pytomography\n",
    "from pytomography.io.SPECT import dicom\n",
    "from pytomography.transforms.SPECT import SPECTAttenuationTransform, SPECTPSFTransform\n",
    "from pytomography.algorithms import OSEM\n",
    "from pytomography.projectors.SPECT import SPECTSystemMatrix\n",
    "from pytomography.likelihoods import PoissonLogLikelihood\n",
    "from pytomography.utils import print_collimator_parameters\n",
    "import matplotlib.pyplot as plt\n",
    "import pydicom\n",
    "import torch\n",
    "import shutil"
   ]
  },
  {
   "cell_type": "markdown",
   "metadata": {},
   "source": [
    "In this step, we define the path to the DICOM file, retrieve object and projection metadata, and extract photopeak projection images for further analysis."
   ]
  },
  {
   "cell_type": "code",
   "execution_count": null,
   "metadata": {},
   "outputs": [],
   "source": [
    "file_NM = '.../anonymized_file.dcm'\n",
    "object_meta, proj_meta = dicom.get_metadata(file_NM, index_peak=0)\n",
    "photopeak = dicom.get_projections(file_NM, index_peak=0)"
   ]
  },
  {
   "cell_type": "markdown",
   "metadata": {},
   "source": [
    "Define the PSF metadata, create the system matrix, initialize the Poisson log-likelihood model, and perform reconstruction using the OSEM algorithm with specified iterations and subsets."
   ]
  },
  {
   "cell_type": "code",
   "execution_count": null,
   "metadata": {},
   "outputs": [],
   "source": [
    "psf_meta = dicom.get_psfmeta_from_scanner_params('SY-LEHR', energy_keV=140.5)\n",
    "psf_transform = SPECTPSFTransform(psf_meta)\n",
    "system_matrix = SPECTSystemMatrix(\n",
    "    obj2obj_transforms = [psf_transform],\n",
    "    proj2proj_transforms = [],\n",
    "    object_meta = object_meta,\n",
    "    proj_meta = proj_meta)\n",
    "likelihood = PoissonLogLikelihood(system_matrix, photopeak)\n",
    "reconstruction_algorithm = OSEM(likelihood)\n",
    "recon = reconstruction_algorithm(n_iters=4, n_subsets=8)"
   ]
  },
  {
   "cell_type": "markdown",
   "metadata": {},
   "source": [
    "Next, we visualize the reconstructed object in three different views: sagittal, coronal, and axial. Based on the sagittal and coronal views, we can isolate the cardiac area and remove the rest of the slices. This is why `testObject = recon[:,:,30:45]` is defined this way. Using the `get_mask()` function, we can define `testObjectMask` to segment the cardiac region."
   ]
  },
  {
   "cell_type": "code",
   "execution_count": null,
   "metadata": {},
   "outputs": [],
   "source": [
    "# Create a figure and a set of subplots\n",
    "fig, axs = plt.subplots(1, 3, figsize=(15, 5))\n",
    "axs[0].imshow(torch.rot90(recon[40, :, :].cpu(), k=1, dims=[0, 1]), interpolation='gaussian', vmax=10, cmap='jet')\n",
    "axs[0].set_title('Sagittal')\n",
    "axs[1].imshow(torch.rot90(recon[:, 40, :].cpu(), k=1, dims=[0, 1]), interpolation='gaussian', vmax=10, cmap='jet')\n",
    "axs[1].set_title('Coronal')\n",
    "axs[2].imshow(torch.rot90(torch.flip(recon[:, :, 40].cpu(), dims=[1]), k=1, dims=[0, 1]), interpolation='gaussian', vmax=10, cmap='jet')\n",
    "axs[2].set_title('Axial')\n",
    "plt.tight_layout()\n",
    "plt.show()"
   ]
  },
  {
   "cell_type": "markdown",
   "metadata": {},
   "source": [
    "In case you want to save the reconstructed object you can set the path for saving the reconstruction, remove any existing folder, and save the DICOM file using the specified reconstruction parameters."
   ]
  },
  {
   "cell_type": "code",
   "execution_count": null,
   "metadata": {},
   "outputs": [],
   "source": [
    "# # Modify the path below to a location on your computer where you want to save the data\n",
    "# save_path = '/home/jhubadmin/Desktop/Reorientation/reconstructed/'\n",
    "# # # Code only works if folder doesnt exist, so delete it if present\n",
    "# if os.path.exists(save_path) and os.path.isdir(save_path):\n",
    "#     shutil.rmtree(save_path)\n",
    "# # Save\n",
    "# dicom.save_dcm(\n",
    "#     save_path = save_path,\n",
    "#     object = recon,\n",
    "#     file_NM = file_NM,\n",
    "#     recon_name = 'OSEM_4it_8ss')"
   ]
  },
  {
   "cell_type": "markdown",
   "metadata": {},
   "source": [
    "### Reorientation"
   ]
  },
  {
   "cell_type": "markdown",
   "metadata": {},
   "source": [
    "The next step is to find the offset of the segmented region relative to the center of the coordinate system. In the axial and sagittal views, we first find the appropriate slice where the heart region is clearly visible (usually the middle one). We then find the center of mass of the segmented region and calculate the `tx`, `ty`, and `tz` values using the `get_shift_values()` function. We also obtain the `ShiftedAxial` and `ShiftedSagittal` slices from the same function. Using these shifted slices, we use the `get_angle()` function to find the proper angles: `AxialAngle` and `SagittalAngle`. Also, you may have masked image at the end using `masking()` function.\n"
   ]
  },
  {
   "cell_type": "code",
   "execution_count": null,
   "metadata": {},
   "outputs": [],
   "source": [
    "from pytomography.utils.cardiac_spect import get_mask, get_shift_values, get_angle, shift_object, rotate_object, plot_arrow, create_circular_mask, masking\n",
    "\n",
    "# Define the object and get the mask\n",
    "testObject = recon[:,:,30:45]\n",
    "testObjectMask = get_mask(testObject, 0.55, 0.9)\n",
    "\n",
    "# Finding the shift values\n",
    "ShiftedAxial, ty, tx = get_shift_values(testObjectMask[:,:,7])\n",
    "ShiftedSagittal, _, tz = get_shift_values(testObjectMask[40,:,:])\n",
    "\n",
    "# Finding the angles values\n",
    "AxialAngle = get_angle(ShiftedAxial, torch.linspace(240, 270, 100))\n",
    "SagittalAngle = get_angle(ShiftedSagittal, torch.linspace(335, 355, 100))\n",
    "\n",
    "# Shifting the object\n",
    "ShiftedObject = shift_object(testObject, -tx, -ty, -tz)\n",
    "\n",
    "# Rotating the object\n",
    "RotatedObject = rotate_object(ShiftedObject, AxialAngle, SagittalAngle)\n",
    "\n",
    "# Make sure the object does not contain negatinve values\n",
    "RotatedObject = torch.clamp(RotatedObject, min=0)\n",
    "\n",
    "# Permute the object to the correct orientation\n",
    "RotatedObject = RotatedObject.permute(2, 1, 0)\n",
    "\n",
    "# Perform masking on the RotatedObject\n",
    "maskedObject = masking(RotatedObject, radius=10)"
   ]
  },
  {
   "cell_type": "markdown",
   "metadata": {},
   "source": [
    "Using the obtained `tx`, `ty`, `tz`, `AxialAngle`, and `SagittalAngle`, we can perform the reorientation using the `shift_object()` and `rotate_object()` functions. To ensure the selected variables are correct, plot the slices for shifting and rotations. Specifically, for finding the angle, use `plot_arrow()` to visualize and determine the correct angle more easily. Finally, use the `masking()` function to remove any extra spaces.\n"
   ]
  },
  {
   "cell_type": "code",
   "execution_count": null,
   "metadata": {},
   "outputs": [],
   "source": [
    "plot_arrow(ShiftedAxial, 235)"
   ]
  },
  {
   "cell_type": "markdown",
   "metadata": {},
   "source": [
    "At the end of this process, you will have reoriented the reconstructed object from the conventional views (sagittal, coronal, and axial) to the Horizontal Long Axis (HLA), Vertical Long Axis (VLA), and Short Axis (SA) views. Let's visulize both masked and non-masked results."
   ]
  },
  {
   "cell_type": "code",
   "execution_count": null,
   "metadata": {},
   "outputs": [],
   "source": [
    "def plot_views(tensor: torch.Tensor):\n",
    "    \"\"\"\n",
    "    Plots three different views of the given 3D tensor\n",
    "\n",
    "    Args:\n",
    "        tensor (torch.Tensor): 3D tensor with shape [depth, height, width].\n",
    "    \"\"\"\n",
    "    # Create a figure and a set of subplots\n",
    "    fig, axs = plt.subplots(1, 3, figsize=(15, 5))\n",
    "\n",
    "    # Vertical Long Axis (VLA)\n",
    "    vla_image = torch.flip(tensor[7, :, :].cpu(), dims=[0]).T\n",
    "    axs[0].imshow(vla_image, interpolation='gaussian', cmap='jet')\n",
    "\n",
    "    # Horizontal Long Axis (HLA)\n",
    "    hla_image = torch.flip(torch.flip(tensor[:, 32, :].cpu(), dims=[0]), dims=[1])\n",
    "    axs[1].imshow(hla_image, interpolation='gaussian', cmap='jet')\n",
    "\n",
    "    # Short Axis (SA)\n",
    "    sa_image = torch.flip(tensor[:, :, 32].cpu(), dims=[0])\n",
    "    axs[2].imshow(sa_image, interpolation='gaussian', cmap='jet')\n",
    "\n",
    "    # Adjust layout and show the plot\n",
    "    plt.tight_layout()\n",
    "    plt.show()\n",
    "    \n",
    "plot_views(RotatedObject)\n",
    "plot_views(maskedObject)\n"
   ]
  }
 ],
 "metadata": {
  "kernelspec": {
   "display_name": "dlml",
   "language": "python",
   "name": "dlml"
  },
  "language_info": {
   "codemirror_mode": {
    "name": "ipython",
    "version": 3
   },
   "file_extension": ".py",
   "mimetype": "text/x-python",
   "name": "python",
   "nbconvert_exporter": "python",
   "pygments_lexer": "ipython3",
   "version": "3.9.19"
  }
 },
 "nbformat": 4,
 "nbformat_minor": 2
}
